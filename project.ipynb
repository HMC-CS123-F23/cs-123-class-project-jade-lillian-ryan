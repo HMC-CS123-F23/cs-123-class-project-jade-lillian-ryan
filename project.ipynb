{
 "cells": [
  {
   "cell_type": "markdown",
   "metadata": {},
   "source": [
    "## For Reviewers"
   ]
  },
  {
   "cell_type": "markdown",
   "metadata": {},
   "source": [
    "Thanks for reviewing! This project is to teach ray tracing for novices. Our overall coding priority right now is to generate a final image of a dining room scene. We would appreciate feedback on how readable our code is, especially the code creating scene objects and implementing reflections. We would also like to know if you think we prpvide enough background and that the prose is clear."
   ]
  },
  {
   "cell_type": "markdown",
   "metadata": {},
   "source": [
    "TODO: Update after class on Monday\n",
    "\n",
    "The outline is:\n",
    " - **Background on ray tracing** - unfinished\n",
    " - **Scene geometry construction** - unfinished\n",
    " - **Ray tracing** - unfinished\n",
    " - **Reflection modeling** - unfinished\n",
    " - **Enhancements** - unfinished"
   ]
  },
  {
   "cell_type": "markdown",
   "metadata": {
    "toc": true
   },
   "source": [
    "# Ray Tracing"
   ]
  },
  {
   "cell_type": "markdown",
   "metadata": {},
   "source": [
    "**Team**: Jade Kessinger, Ryan Nguyen, Lillian Vernooy\n",
    "\n",
    "**Summary**: Users will be able to perform vector operations on rays that are simulating photons and render a realistic image of a dining room scene. This will provide insight into how we as programmers simplify and approximate real-life physics into something computable with finite memory and time, which is a good step into more complex concepts in computer graphics, such as simulating water, snow, fire, etc.\n",
    "\n",
    "**Audience**: Students who are familiar with Python and basic vector geometry, but haven't had much experience with computer graphics. These individuals are interested in simulating light in a virtual environment and learning about how computers render images, but not necessarily a complex graphics engine.\n",
    "\n",
    "**Libraries used**: `NumPy`, `matplotlib`\n",
    "\n",
    "**Vocabulary**: rays, vector operations, pixels, images, computer graphics, physics, virtual camera, image"
   ]
  },
  {
   "cell_type": "markdown",
   "metadata": {},
   "source": [
    "## Introduction"
   ]
  },
  {
   "cell_type": "markdown",
   "metadata": {},
   "source": [
    "TODO: add image above once we finish the tutorial\n",
    "\n",
    "In this tutorial, we will introduce you to computer graphics by implementing a ray tracing algorithm to generate an image of a dining room scene, like the one pictured above. We will use the `Numpy` library for vector geometry and `matplotlib` to display our image.\n",
    "\n",
    "As we move through the tutorial, we will discuss:\n",
    " - What ray tracing is and how it is used in movies and video games\n",
    " - The general ray tracing algorithm in pseudocode\n",
    " - How to simulate 3D objects using classes and inheritance\n",
    " - How to create a 3D coordinate system where the scene will reside\n",
    " - How to use vector geometry to describe how light interacts with the world by creating an array of pixels\n",
    " - How a camera forms a raster image by having each pixel record light intensity\n",
    " - How to calculate the illumination of an object based on the angle between the surface and light source\n",
    " - How to determine the color of an object based on the degree of illumination\n",
    " - How to display an image with `matplotlib`\n",
    "\n",
    "You can run this notebook on Google Colab\n",
    "\n",
    "TODO: add the enhancements we choose to include\n",
    "TODO: add google colab link"
   ]
  },
  {
   "cell_type": "markdown",
   "metadata": {},
   "source": [
    "## Prerequisites"
   ]
  },
  {
   "cell_type": "markdown",
   "metadata": {},
   "source": [
    "#### Computer Science\n",
    "This tutorial assumes knowledge introductory computer science topics such as loops, recursion, and list comprehensions in Python. We also assume object oriented programming background which we will use to model objects."
   ]
  },
  {
   "cell_type": "markdown",
   "metadata": {},
   "source": [
    "#### Linear Algebra\n",
    "\n",
    "We'll be using basic vector geometry to model light, so it is important to know the following properties:\n",
    " - **Vector between two points**: To compute a vector between points $A$ and $B$, we subtract $B - A$ \n",
    " - **Length of a vector**: denoted $\\vert \\vert \\overrightarrow{v} \\vert \\vert$, is the square root of the sum of the squared components: for vector $\\overrightarrow{v} = \\langle a, b \\rangle$, then $\\vert \\vert \\overrightarrow{v} \\vert \\vert = \\sqrt{a^2 + b^2}$.\n",
    " - **Unit-vector**: a vector of length 1: $\\vert \\vert \\overrightarrow{u} \\vert \\vert = 1$\n",
    " - **Normalization**: divide each component of a vector by its length. This gives us a unit vector pointing in the same direction: $\\overrightarrow{u} = \\overrightarrow{v} / \\vert \\vert \\overrightarrow{v} \\vert \\vert$\n",
    " - **Dot product**: sum of the product of each component. The dot product of a vector with itself is $\\overrightarrow{v} \\cdot \\overrightarrow{v} = \\vert \\vert \\overrightarrow{v} \\vert \\vert^2$\n",
    " - **Solving a quadratic equation**"
   ]
  },
  {
   "cell_type": "markdown",
   "metadata": {},
   "source": [
    "#### Physics\n",
    "\n",
    "We will be modeling rays of light and their intersection with objects. We only expect a very basic understanding of light which is usually covered in high-school physics"
   ]
  },
  {
   "cell_type": "markdown",
   "metadata": {},
   "source": [
    "## The Ray Tracing Algorithm"
   ]
  },
  {
   "cell_type": "markdown",
   "metadata": {},
   "source": [
    "*Ray tracing* **simulates paths of light** as they **intersect with objects** to render highly-realistic images from scratch. More optimized versions of this ray tracing algorithm are used in many CGI movies and modern video games, such as *Stray*, pictured below. "
   ]
  },
  {
   "cell_type": "markdown",
   "metadata": {},
   "source": [
    "TODO: Add Stray image"
   ]
  },
  {
   "cell_type": "markdown",
   "metadata": {},
   "source": [
    "In this algorithm, we need to set up a **scene** with the following components:\n",
    " - **3D space**: a three coordinate graph, which we'll store in an array\n",
    " - **Objects**: Spheres, Cubes, etc. to simulate the dining table, chairs, walls, and plant.\n",
    " - **Light source**: One position where light will emit from\n",
    " - **Camera**: One position to observe the scene\n",
    " - **Screen**: A rectangle where the camera is looking through to observe the objects"
   ]
  },
  {
   "cell_type": "markdown",
   "metadata": {},
   "source": [
    "TODO: Insert visual of these objects (we probably want to make our own)"
   ]
  },
  {
   "cell_type": "markdown",
   "metadata": {},
   "source": [
    "To simulate this scene, we'll implement the following algorithm written in pseudocode:"
   ]
  },
  {
   "cell_type": "markdown",
   "metadata": {},
   "source": [
    "Pseudocode credit to https://omaraflak.medium.com/ray-tracing-from-scratch-in-python-41670e6a96f9\n",
    "\n",
    "TODO: Modify this if we change the pseudocode later"
   ]
  },
  {
   "cell_type": "markdown",
   "metadata": {},
   "source": [
    "`for each pixel p(x, y, z) of the screen:`\n",
    "\n",
    "&nbsp;&nbsp;&nbsp;&nbsp;&nbsp;&nbsp;`associate a black color to p(x, y, z)`\n",
    "\n",
    "&nbsp;&nbsp;&nbsp;&nbsp;&nbsp;&nbsp;`if the ray that starts at the camera c(x, y, z) and goes towards p intersects any object of the scene then:`\n",
    "\n",
    "&nbsp;&nbsp;&nbsp;&nbsp;&nbsp;&nbsp;&nbsp;&nbsp;&nbsp;&nbsp;&nbsp;&nbsp;`calculate the intersection point to the nearest object`\n",
    "\n",
    "&nbsp;&nbsp;&nbsp;&nbsp;&nbsp;&nbsp;&nbsp;&nbsp;&nbsp;&nbsp;&nbsp;&nbsp;`if there is no object of the scene in-between the intersection point and the light then:`\n",
    "\n",
    "&nbsp;&nbsp;&nbsp;&nbsp;&nbsp;&nbsp;&nbsp;&nbsp;&nbsp;&nbsp;&nbsp;&nbsp;&nbsp;&nbsp;&nbsp;&nbsp;&nbsp;&nbsp;`calculate the color of the intersection point`\n",
    "            \n",
    "&nbsp;&nbsp;&nbsp;&nbsp;&nbsp;&nbsp;&nbsp;&nbsp;&nbsp;&nbsp;&nbsp;&nbsp;&nbsp;&nbsp;&nbsp;&nbsp;&nbsp;&nbsp;`associate the color of the intersection point to p`"
   ]
  },
  {
   "cell_type": "markdown",
   "metadata": {},
   "source": [
    "Question for reviewers: do you find this algorithm pseudocode helpful, or would it be better to just dive into coding?"
   ]
  },
  {
   "cell_type": "markdown",
   "metadata": {},
   "source": [
    "## Part 2: Scene Geometry Construction\n",
    "\n",
    "Next, we must construct the geometry that we will render. In order to apply ray tracing to the geometry, every object or surface in the scene must be described by a function, so that the intersection (if it exists) of a casted ray can be calculated with each element in the scene. For an arbitrary geometry, this could quickly become complicated, so it will be desirable to create a small set of functions to describe simple geometric primitives, and then to build our scene geometry out of these.\n",
    "\n",
    "Tasks:\n",
    "\n",
    "- Write a set of generic functions to describe the surfaces of some set of geometric objects.\n",
    "- Create a 3D coordinate system in which the scene will reside. - done\n",
    "- Build up the scene by using our set of functions to describe actual objects in the space. "
   ]
  },
  {
   "cell_type": "markdown",
   "metadata": {},
   "source": [
    "## Setup the scene"
   ]
  },
  {
   "cell_type": "markdown",
   "metadata": {},
   "source": [
    "### Creating our 3D Space"
   ]
  },
  {
   "cell_type": "markdown",
   "metadata": {},
   "source": [
    "Before we start coding, let's import our required libraries.\n",
    "\n",
    "The `NumPy` will help us perform vector geometry on arrays. In this tutorial, we'll be using many `NumPy` arrays, which you can think of as lists of lists in Python. `NumPy` will provide us with useful functions to manipulate those arrays efficiently.\n",
    "\n",
    "`matplotlib`, specifically `matplotlib.pyplot`, is often used to produce plots and figures in Python. In this tutorial, we'll use it to display our image."
   ]
  },
  {
   "cell_type": "code",
   "execution_count": 164,
   "metadata": {},
   "outputs": [],
   "source": [
    "import numpy as np\n",
    "import matplotlib.pyplot as plt"
   ]
  },
  {
   "cell_type": "markdown",
   "metadata": {},
   "source": [
    "Let's start creating our scene. First we can decide how big our scene is by creating `height` and `width` variables.  For now, we'll create a scene of 300x200 pixels."
   ]
  },
  {
   "cell_type": "code",
   "execution_count": 165,
   "metadata": {},
   "outputs": [],
   "source": [
    "width = 300\n",
    "height = 200"
   ]
  },
  {
   "cell_type": "markdown",
   "metadata": {},
   "source": [
    "Now, we can create our `image`, which will be a three dimensional `NumPy` array with the x-axis as height and the y-axis as width. Our z-axis only needs to consist of 3 points for just our camera, the screen, and the objects.\n",
    "\n",
    "To create this array, we'll use `np.zeros`. This function takes in a *shape* (an int or a tuple of ints) and creates a `NumPy` array of the given shape filled with zeros. You can read the documentation [here](https://numpy.org/doc/stable/reference/generated/numpy.zeros.html)."
   ]
  },
  {
   "cell_type": "code",
   "execution_count": 166,
   "metadata": {},
   "outputs": [],
   "source": [
    "image = np.zeros((height, width, 3))"
   ]
  },
  {
   "cell_type": "markdown",
   "metadata": {},
   "source": [
    "Let's create our camera. To make things simple, we'll put it at ($x=0$, $y=0$, and $z=-1$). "
   ]
  },
  {
   "cell_type": "code",
   "execution_count": 167,
   "metadata": {},
   "outputs": [],
   "source": [
    "camera = np.array([0,0,1])"
   ]
  },
  {
   "cell_type": "markdown",
   "metadata": {},
   "source": [
    "We can choose the amount of space we want our screen to occupy. Since our objects, camera, and screen size are relative to each other, we can make things easier for ourselves by making our screen width from $x=-1$ to $x=1$. It's important, however, to maintain the correct aspect ratio of our screen size, so we'll have to set our screen height to range from $y=1/(\\text{width}/\\text{height})$ and $y=-1/(\\text{width}/\\text{height})$ "
   ]
  },
  {
   "cell_type": "code",
   "execution_count": 168,
   "metadata": {},
   "outputs": [],
   "source": [
    "# The image plane (screen) sits in the xy-plane.\n",
    "\n",
    "ratio = width / height\n",
    "screen = (-1, 1 / ratio, 1, -1 / ratio) # left, top, right, bottom"
   ]
  },
  {
   "cell_type": "markdown",
   "metadata": {},
   "source": [
    "To check that we have things set up correctly, let's try displaying the image. We can use `plt.imshow` which takes in an array and displays it as an image. We'll also turn off our axis since we're only concerned with viewing the image, not a plot, using `plt.axis(\"off\")`. We'll still have a small white border."
   ]
  },
  {
   "cell_type": "code",
   "execution_count": 169,
   "metadata": {},
   "outputs": [
    {
     "data": {
      "text/plain": [
       "<matplotlib.image.AxesImage at 0x7f8aea0f7310>"
      ]
     },
     "execution_count": 169,
     "metadata": {},
     "output_type": "execute_result"
    },
    {
     "data": {
      "image/png": "[encoded data removed]",
      "text/plain": [
       "<Figure size 640x480 with 1 Axes>"
      ]
     },
     "metadata": {},
     "output_type": "display_data"
    }
   ],
   "source": [
    "plt.axis(\"off\")\n",
    "plt.imshow(image)"
   ]
  },
  {
   "cell_type": "markdown",
   "metadata": {},
   "source": [
    "Nice! This gives us what we'd expect so far, which is just a black image."
   ]
  },
  {
   "cell_type": "markdown",
   "metadata": {},
   "source": [
    "### Defining a ray"
   ]
  },
  {
   "cell_type": "markdown",
   "metadata": {},
   "source": [
    "To define a ray that will start at the *camera* and go to a specific *pixel*, we can define a unit-vector that points in the direction of the camera to the pixel. To get this vector, we can normalize the `pixel - camera` vector.\n",
    "\n",
    "We'll implement a `normalize` function using `np.linalg.norm`, which when given a vector returns the length of the vector (aka the vector norm). You can read the documentation [here](https://numpy.org/doc/stable/reference/generated/numpy.linalg.norm.html)."
   ]
  },
  {
   "cell_type": "code",
   "execution_count": 170,
   "metadata": {},
   "outputs": [],
   "source": [
    "def normalize(vector):\n",
    "    return vector / np.linalg.norm(vector)"
   ]
  },
  {
   "cell_type": "markdown",
   "metadata": {},
   "source": [
    "### Defining a plane"
   ]
  },
  {
   "cell_type": "code",
   "execution_count": 188,
   "metadata": {},
   "outputs": [],
   "source": [
    "def sphere_intersect(center, radius, ray_origin, ray_direction):\n",
    "    b = 2 * np.dot(ray_direction, ray_origin - center)\n",
    "    c = np.linalg.norm(ray_origin - center) ** 2 - radius ** 2\n",
    "    delta = b ** 2 - 4 * c\n",
    "    if delta > 0:\n",
    "        t1 = (-b + np.sqrt(delta)) / 2\n",
    "        t2 = (-b - np.sqrt(delta)) / 2\n",
    "        if t1 > 0 and t2 > 0:\n",
    "            return min(t1, t2)\n",
    "    return None\n",
    "\n",
    "def plane_intersect(position, normal, ray_origin, ray_direction):\n",
    "    denom = np.dot(ray_direction, normal)\n",
    "    if np.abs(denom) < 1e-6:\n",
    "        return None\n",
    "    dist = np.dot(ray_origin - position, normal) / denom\n",
    "    if dist < 0:\n",
    "        return None\n",
    "        # TODO: I think this may be messing with box_2\n",
    "    return dist\n",
    "\n",
    "# does not work :(\n",
    "def box_intersect(p_min, p_max, ray_origin, ray_direction):\n",
    "\n",
    "    tmin = (p_min[0] - ray_origin[0]) / ray_direction[0]\n",
    "    tmax = (p_max[0] - ray_origin[0]) / ray_direction[0]\n",
    "    tymin = (p_min[1] - ray_origin[1]) / ray_direction[1]\n",
    "    tymax = (p_max[1] - ray_origin[1]) / ray_direction[1]\n",
    "\n",
    "    if (tmin > tymax) or (tymin > tmax):\n",
    "        return None\n",
    "    \n",
    "    if (tymin > tmin):\n",
    "        tmin = tymin\n",
    "    if (tymax < tmax):\n",
    "        tmax = tymax\n",
    "\n",
    "    tzmin = (p_min[2] - ray_origin[2]) / ray_direction[2]\n",
    "    tzmax = (p_max[2] - ray_origin[2]) / ray_direction[2]\n",
    "\n",
    "    if (tmin > tzmax) or (tzmin > tmax):\n",
    "        return None\n",
    "\n",
    "    if tzmin > tmin:\n",
    "        tmin = tzmin\n",
    "    if tzmax < tmax:\n",
    "        tmax = tzmax\n",
    "\n",
    "    return tmin\n",
    "\n",
    "# inefficient box intersection\n",
    "def box_2(p_min, p_max, ray_origin, ray_direction):\n",
    "    \n",
    "    assert (p_min < p_max).all()\n",
    "    \n",
    "    #int_dir = None\n",
    "    int_d = None\n",
    "    \n",
    "    for i in [0, 1, 2]:\n",
    "        \n",
    "        for k, point in enumerate([p_min, p_max]):\n",
    "            \n",
    "            normal = np.array([0, 0, 0])\n",
    "            normal[i] = 1\n",
    "            #normal[i] = 2*k - 1\n",
    "                    \n",
    "            intersect = plane_intersect(\n",
    "                point,\n",
    "                normal,\n",
    "                ray_origin,\n",
    "                ray_direction\n",
    "            )\n",
    "            \n",
    "            if intersect is not None:\n",
    "                \n",
    "                assert intersect > 0\n",
    "                \n",
    "                intersect_p = ray_origin + (intersect * ray_direction)\n",
    "                \n",
    "                if all(\n",
    "                    p_min[j] <= intersect_p[j] <= p_max[j]\n",
    "                    for j in list( set([0, 1, 2]) - set([i]) )\n",
    "                ):\n",
    "                        \n",
    "                    if int_d is None or intersect < int_d:\n",
    "\n",
    "                        int_d = intersect\n",
    "\n",
    "                        # or just record the normal --- needed later for reflection\n",
    "                        #int_dir = i\n",
    "    \n",
    "    return int_d\n",
    "\n",
    "# https://web.cse.ohio-state.edu/~shen.94/681/Site/Slides_files/basic_algo.pdf\n",
    "# def box_2(p_min, p_max, ray_origin, ray_direction):\n",
    "#     t_near = -1e6\n",
    "#     t_far = 1e6\n",
    "#     for i in [0, 1, 2]:\n",
    "#         if ray_direction[i] == 0:\n",
    "#             if ray_origin[i] < p_min[i] or ray_origin[i] > p_max[i]:\n",
    "#                 return None\n",
    "#         else:\n",
    "#             t1 = (p_min[i] - ray_origin[i]) / ray_direction[i]\n",
    "#             t2 = (p_max[i] - ray_origin[i]) / ray_direction[i]\n",
    "#             if t1 > t2:\n",
    "#                 tmp = t2\n",
    "#                 t2 = t1\n",
    "#                 t1 = tmp\n",
    "#             if t1 > t_near:\n",
    "#                 t_near = t1\n",
    "#             if t2 < t_far:\n",
    "#                 t_far = t2\n",
    "#             if t_near > t_far:\n",
    "#                 return None\n",
    "#             if t_far < 0:\n",
    "#                 return None\n",
    "#     return t_near        \n",
    "\n",
    "def get_distance(obj, ray_origin, ray_direction):\n",
    "    if obj['type'] == 'plane':\n",
    "        return plane_intersect(obj['position'], obj['normal'], ray_origin, ray_direction)\n",
    "    elif obj['type'] == 'sphere':\n",
    "        return sphere_intersect(obj['center'], obj['radius'], ray_origin, ray_direction)\n",
    "    elif obj['type'] == 'box':\n",
    "        #return box_intersect(obj['min'], obj['max'], ray_origin, ray_direction)\n",
    "        return box_2(obj['min'], obj['max'], ray_origin, ray_direction)\n",
    "\n",
    "def get_normal_to_surface(obj, intersection):\n",
    "    if obj['type'] == 'plane':\n",
    "        return normalize(obj['normal'])\n",
    "    elif obj['type'] == 'sphere' or obj['type'] == 'box':\n",
    "        return normalize(intersection - obj['center'])\n",
    "    \n",
    "def nearest_intersected_object(objects, ray_origin, ray_direction):\n",
    "    distances = [get_distance(obj, ray_origin, ray_direction) for obj in objects]\n",
    "    nearest_object = None\n",
    "    min_distance = np.inf\n",
    "    for index, distance in enumerate(distances):\n",
    "        if distance and distance < min_distance:\n",
    "            min_distance = distance\n",
    "            nearest_object = objects[index]\n",
    "    return nearest_object, min_distance"
   ]
  },
  {
   "cell_type": "code",
   "execution_count": 172,
   "metadata": {},
   "outputs": [],
   "source": [
    "# TODO: Convert objects into classes to avoid all the if/elifs above\n",
    "\n",
    "class Object:\n",
    "    \n",
    "    def get_distance(self):\n",
    "        raise NotImplementedError(\"not implemented!\")\n",
    "    \n",
    "    def get_normal_to_surface(self):\n",
    "        raise NotImplementedError(\"not implemented!\")\n",
    "\n",
    "class Sphere(Object):\n",
    "    pass\n",
    "\n",
    "class Plane(Object):\n",
    "    pass\n",
    "\n",
    "class Box(Object):\n",
    "    pass"
   ]
  },
  {
   "cell_type": "code",
   "execution_count": 173,
   "metadata": {},
   "outputs": [],
   "source": [
    "# Define the max number of reflection bounces to model\n",
    "max_depth = 3\n",
    "\n",
    "# Define properties of the light source.\n",
    "# Define weights for ambient, diffuse, and\n",
    "# specular in each color channel.\n",
    "light = {\n",
    "    'position': np.array([5, 5, 5]),\n",
    "    'ambient': np.array([1, 1, 1]),\n",
    "    'diffuse': np.array([1, 1, 1]),\n",
    "    'specular': np.array([1, 1, 1])\n",
    "}"
   ]
  },
  {
   "cell_type": "code",
   "execution_count": 184,
   "metadata": {},
   "outputs": [],
   "source": [
    "# Creating objects\n",
    "objects = [\n",
    "    #{'type': 'sphere', 'center': np.array([-0.2, 0, -1]), 'radius': 0.7},\n",
    "    #{'type': 'sphere', 'center': np.array([0.1, -0.3, 0]), 'radius': 0.1},\n",
    "    #{'type': 'sphere', 'center': np.array([-0.3, 0, 0]), 'radius': 0.15},\n",
    "    \n",
    "    # TODO: Don't calculate normal using \"center\"\n",
    "    {'type': 'box', \"min\": np.array([-0.5, -0.5, -1.5]), \"max\": np.array([0.5, 0.5, -0.5]), \"center\": np.array([0, 0, -1])},\n",
    "    \n",
    "    # left\n",
    "    # {'type': 'plane', 'position': np.array([1.1, 0.0, 0.0]), 'normal': np.array([1.0, 0.0, 0.0]), 'ambient': np.array([0.65, 0.05, 0.05]), 'diffuse': np.array([0.6, 0.6, 0.6]), 'specular': np.array([0, 0, 0]), 'shininess': 0, 'reflection': 0.0},\n",
    "    # # right\n",
    "    # {'type': 'plane', 'position': np.array([-1.1, 0.0, 0.0]), 'normal': np.array([-1.0, 0.0, 0.0]), 'ambient': np.array([0.12, 0.45, 0.15]), 'diffuse': np.array([0.6, 0.6, 0.6]), 'specular': np.array([0, 0, 0]), 'shininess': 0, 'reflection': 0.0},\n",
    "    # # bottom\n",
    "    {'type': 'plane', 'position': np.array([0.0, 1.0, 0.0]), 'normal': np.array([0.0, 1.0, 0.0]), 'ambient': np.array([0.5, 0.5, 0.5]), 'diffuse': np.array([0.6, 0.6, 0.6]), 'specular': np.array([0, 0, 0]), 'shininess': 0, 'reflection': 0.0},\n",
    "    # # top\n",
    "    # {'type': 'plane', 'position': np.array([0.0, -1.0, 0.0]), 'normal': np.array([0.0, -1.0, 0.0]), 'ambient': np.array([0.93, 0.93, 0.93]), 'diffuse': np.array([0.6, 0.6, 0.6]), 'specular': np.array([0, 0, 0]), 'shininess': 0, 'reflection': 0.0},\n",
    "    # # far\n",
    "    # {'type': 'plane', 'position': np.array([0.0, 0.0, 4.0]), 'normal': np.array([0.0, 0.0, 1.0]), 'ambient': np.array([0.93, 0.93, 0.93]), 'diffuse': np.array([0.6, 0.6, 0.6]), 'specular': np.array([0, 0, 0]), 'shininess': 0, 'reflection': 0.0}\n",
    "]"
   ]
  },
  {
   "cell_type": "markdown",
   "metadata": {},
   "source": [
    "## Part 3: Ray Tracing\n",
    "\n",
    "Our third task will be to implement the actual ray tracing operation, in which rays are cast outwards to determine where objects will appear in the image. First, we will decide on a point in space to be the camera position, and define a rectangle to be the focal plane. Then, we create an array to represent the image, and map each pixel to a location on the focal plane. Finally, we can determine which object in the scene each pixel in the camera will display, by casting a ray out from the camera through a given pixel in the focal plane, and then recording which object (and the corresponding point in space) that the ray impacts first.\n",
    "\n",
    "Tasks:\n",
    "\n",
    "- Define the camera and focal plane positions.\n",
    "- Create an array to represent the image, and determine the location of each pixel on the focal plane.\n",
    "- Cast a ray from the camera position through each pixel in the focal plane, and determine the nearest object that each ray intersects (and the intersection point)."
   ]
  },
  {
   "cell_type": "markdown",
   "metadata": {},
   "source": [
    "To divide our screen into pixels evenly, we'll use `np.linspace`. `np.linspace` will create a `NumPy` array of *num* evenly spaced samples, calculated over the interval [*start*, *stop*] (inclusive). You can read the documentation [here](https://numpy.org/doc/stable/reference/generated/numpy.linspace.html).\n",
    "\n",
    "With `np.linspace`, we can evenly divide the height of our screen by the height of our image and the width of our screen by the width of our image. Then, we can traverse these arrays to get the y and x values of our pixels.\n",
    "\n",
    "TODO: explain enumerate\n",
    "we'll need to We'll also be using the built-in function `enumerate`, which takes in a list or array and returns the same list or array with a counter for each element."
   ]
  },
  {
   "cell_type": "code",
   "execution_count": 189,
   "metadata": {},
   "outputs": [
    {
     "name": "stdout",
     "output_type": "stream",
     "text": [
      "20/200\n",
      "40/200\n",
      "60/200\n",
      "80/200\n",
      "100/200\n",
      "120/200\n",
      "140/200\n",
      "160/200\n",
      "180/200\n",
      "200/200\n"
     ]
    },
    {
     "name": "stderr",
     "output_type": "stream",
     "text": [
      "Clipping input data to the valid range for imshow with RGB data ([0..1] for floats or [0..255] for integers).\n"
     ]
    },
    {
     "data": {
      "text/plain": [
       "<matplotlib.image.AxesImage at 0x7f8ae9c2dc40>"
      ]
     },
     "execution_count": 189,
     "metadata": {},
     "output_type": "execute_result"
    },
    {
     "data": {
      "image/png": "[encoded data removed]",
      "text/plain": [
       "<Figure size 640x480 with 1 Axes>"
      ]
     },
     "metadata": {},
     "output_type": "display_data"
    }
   ],
   "source": [
    "# RESET IMAGE! (not doing this was causing massive confusion)\n",
    "image = np.zeros((height, width, 3))\n",
    "\n",
    "for i, y in enumerate(np.linspace(screen[1], screen[3], height)):\n",
    "    \n",
    "    for j, x in enumerate(np.linspace(screen[0], screen[2], width)):\n",
    "        \n",
    "        # Image plane lies within the xy plane\n",
    "        pixel = np.array([x, y, 0])\n",
    "        \n",
    "        # Set origin point. When implementing multiple bounces, the origin\n",
    "        # will become some point on an object.\n",
    "        origin = camera\n",
    "        \n",
    "        # The ray runs from the origin through the current pixel\n",
    "        direction = normalize(pixel - origin)\n",
    "\n",
    "        # check for intersections\n",
    "        nearest_object, min_distance = nearest_intersected_object(objects, origin, direction)\n",
    "        \n",
    "        # The ray intersects with no objects, so leave the pixel black\n",
    "        if nearest_object is None:\n",
    "            continue\n",
    "\n",
    "        # Compute intersection point between ray and nearest object\n",
    "        intersection = origin + min_distance * direction\n",
    "\n",
    "        # Ray from the intersectoin point to light source\n",
    "        intersection_to_light = normalize(light['position'] - intersection)\n",
    "        \n",
    "        # TODO: This logic only works for spheres --- May need object class\n",
    "        # to provide a normal_at_point function? This could be messy with how\n",
    "        # the point is provided though --- perhaps it should be calculated\n",
    "        # when the nearest object is determined?\n",
    "        \n",
    "        # surface_normal = normalize(intersection - nearest_object['center'])\n",
    "        surface_normal = get_normal_to_surface(nearest_object, intersection)\n",
    "        \n",
    "        # Diffuse reflection: the illumination of the point depends only\n",
    "        # on the angle from surface to the light source --- taking the dot\n",
    "        # product of normalized vectors is is the same as taking the cosine\n",
    "        intensity = np.dot(surface_normal, intersection_to_light)\n",
    "        \n",
    "        # go single-channel for now\n",
    "        image[i, j] = np.ones(3) * intensity\n",
    "    \n",
    "    if (i + 1) % (height // 10) == 0:\n",
    "        print(f\"{i + 1}/{height}\")\n",
    "\n",
    "plt.axis(\"off\")\n",
    "plt.imshow(image)"
   ]
  },
  {
   "cell_type": "code",
   "execution_count": null,
   "metadata": {},
   "outputs": [],
   "source": [
    "plt.axis(\"off\")\n",
    "plt.imshow(image)\n",
    "\n",
    "# TODO: Why is this clipping? Something not normalized somewhere..."
   ]
  },
  {
   "cell_type": "code",
   "execution_count": null,
   "metadata": {},
   "outputs": [],
   "source": [
    "# Save Image to output\n",
    "#plt.imsave('image.png', image)"
   ]
  },
  {
   "cell_type": "markdown",
   "metadata": {},
   "source": [
    "## Part 4: Reflection Modeling\n",
    "\n",
    "Next, we must determine the actual color to assign to each pixel. The first step in this process is to cast a ray from the point of intersection at the object to the light source, in order to determine if the object is shadowed by any other objects. We can then determine the illumination of the point. In the interest of beginning with the simplest possible system, we can begin with a simple diffuse reflection model in which light from the source is scattered in all directions. In this case, the illumination of a point on an object can be calculated based on the angle between the surface normal at that point and the ray which runs from the point to the light source — the cosine of the angle will give us the illumination of the point. The color of the object can also be incorporated at this point. Once we complete this step, we should be able to create a basic rendering of the scene.\n",
    "\n",
    "Tasks:\n",
    "\n",
    "- Cast rays to determine whether a given point is in shadow.\n",
    "- Calculate illumination based on angle between surface and light source.\n",
    "- Determine final pixel color by combining degree of illumination and color of object."
   ]
  },
  {
   "cell_type": "code",
   "execution_count": null,
   "metadata": {},
   "outputs": [],
   "source": [
    "# TODO: Split reflection modeling code off into function(s) so that it can be placed in Part 4,\n",
    "# instead of in part 3 where it currently resides."
   ]
  },
  {
   "cell_type": "markdown",
   "metadata": {},
   "source": [
    "## Part 5: Enhancements\n",
    "\n",
    "Once we have created a basic rendering of the scene, we will add enhancements that will improve the photorealism of the scene. Some possibilities are listed below.\n",
    "\n",
    "Tasks:\n",
    "\n",
    "- Implement the Phong reflection model to shade objects more accurately by including specular, diffuse, and ambient components.\n",
    "- Adding multiple bounces in order to render reflections.\n",
    "- Implement refraction for transparent/translucent objects.\n",
    "- Implement textures by varying shading parameters across the surface of an object.\n",
    "- (If time allows) More complicated geometries. For example, import an STL file, and parse it to determine the set of triangular surfaces in 3D space that it represents."
   ]
  },
  {
   "cell_type": "code",
   "execution_count": null,
   "metadata": {},
   "outputs": [],
   "source": [
    "# TODO!"
   ]
  },
  {
   "cell_type": "markdown",
   "metadata": {},
   "source": [
    "---\n",
    "References\n",
    "\n",
    "[1] https://numpy.org/doc/stable/reference/generated/numpy.zeros.html\n",
    "[2] https://numpy.org/doc/stable/reference/generated/numpy.linspace.html\n",
    "[3] https://numpy.org/doc/stable/reference/generated/numpy.linalg.norm.html\n",
    "\n",
    "TODO: add/complete references"
   ]
  }
 ],
 "metadata": {
  "kernelspec": {
   "display_name": "Python 3 (ipykernel)",
   "language": "python",
   "name": "python3"
  },
  "language_info": {
   "codemirror_mode": {
    "name": "ipython",
    "version": 3
   },
   "file_extension": ".py",
   "mimetype": "text/x-python",
   "name": "python",
   "nbconvert_exporter": "python",
   "pygments_lexer": "ipython3",
   "version": "3.9.2"
  },
  "toc": {
   "base_numbering": 1,
   "nav_menu": {},
   "number_sections": true,
   "sideBar": true,
   "skip_h1_title": false,
   "title_cell": "Table of Contents",
   "title_sidebar": "Contents",
   "toc_cell": true,
   "toc_position": {},
   "toc_section_display": true,
   "toc_window_display": false
  }
 },
 "nbformat": 4,
 "nbformat_minor": 4
}
