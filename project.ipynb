{
 "cells": [
  {
   "cell_type": "markdown",
   "metadata": {},
   "source": [
    "## For Reviewers"
   ]
  },
  {
   "cell_type": "markdown",
   "metadata": {},
   "source": [
    "Thanks for reviewing! This project is to teach ray tracing for novices. Our overall coding priority right now is to generate a final image of a dining room scene. We would appreciate feedback on how readable our code is, especially the code creating scene objects and implementing reflections. We would also like to know if you think we prpvide enough background and that the prose is clear."
   ]
  },
  {
   "cell_type": "markdown",
   "metadata": {},
   "source": [
    "The outline is:\n",
    " - **Introduction** - text is written. We'll need to add any additional tasks we choose and images/links that we'll only have access to once the project is finished.\n",
    " - **Prerequisites** - done. Clarity notes welcome.\n",
    " - **Background on ray tracing** - done. We're worried that the image might be too big or unnecessary. Would more text in this section be helpful, or is it better to keep it concise?\n",
    " - **3D Scene geometry construction** - done. We only need to add an explanatory image for the positions of each object. Feedback on clarity and the size of code chunks is appreciated.\n",
    " - **3D Object geometry construction**\n",
    "    - **plane** - done. The `plane` code is done, minus the citation reference. \n",
    "    - **sphere** - coding done, text unwritten. We're holding off on writing the text since we might not include the sphere in our final image, since we're trying to simulate a dining room scene. \n",
    "    - **cuboid** - unfinished. We're testing two methods for making a cuboid, one with rectangles and one with triangles. \n",
    "    - We also generally need to append our objects to an ongoing objects list, but for testing we've been defining that object list at the end of this section for now.\n",
    " - **Defining a ray** - unfinished\n",
    " - **Reflection modeling** - unfinished\n",
    " - **Enhancements** - unfinished"
   ]
  },
  {
   "cell_type": "markdown",
   "metadata": {
    "toc": true
   },
   "source": [
    "# Ray Tracing"
   ]
  },
  {
   "cell_type": "markdown",
   "metadata": {},
   "source": [
    "**Team**: Jade Kessinger, Ryan Nguyen, Lillian Vernooy\n",
    "\n",
    "**Summary**: Users will be able to perform vector operations on rays that are simulating photons and render a realistic image of a dining room scene. This will provide insight into how we as programmers simplify and approximate real-life physics into something computable with finite memory and time, which is a good step into more complex concepts in computer graphics, such as simulating water, snow, fire, etc.\n",
    "\n",
    "**Audience**: Students who are familiar with Python and basic vector geometry, but haven't had much experience with computer graphics. These individuals are interested in simulating light in a virtual environment and learning about how computers render images, but not necessarily a complex graphics engine.\n",
    "\n",
    "**Libraries used**: `NumPy`, `matplotlib`\n",
    "\n",
    "**Vocabulary**: rays, vector operations, pixels, images, computer graphics, physics, virtual camera, image"
   ]
  },
  {
   "cell_type": "markdown",
   "metadata": {},
   "source": [
    "## Introduction"
   ]
  },
  {
   "cell_type": "markdown",
   "metadata": {},
   "source": [
    "TODO: add image above once we finish the tutorial\n",
    "\n",
    "In this tutorial, we will introduce you to computer graphics by implementing a ray tracing algorithm to generate an image of a dining room scene, like the one pictured above. We will use the `Numpy` library for vector geometry and `matplotlib` to display our image.\n",
    "\n",
    "As we move through the tutorial, we will discuss:\n",
    " - What ray tracing is and how it is used in movies and video games\n",
    " - How to create a 3D coordinate system where the scene will reside\n",
    " - How to simulate 3D objects such as cuboids and spheres\n",
    " - How to use vector geometry to describe how light interacts with the world by creating an array of pixels\n",
    " - How a camera forms a raster image by having each pixel record light intensity\n",
    " - How to calculate the illumination of an object based on the angle between the surface and light source\n",
    " - How to determine the color of an object based on the degree of illumination\n",
    " - How to display an image with `matplotlib`\n",
    "\n",
    "You can run this notebook on Google Colab. (Insert link here)\n",
    "\n",
    "TODO: add the enhancements we choose to include\n",
    "\n",
    "TODO: add google colab link"
   ]
  },
  {
   "cell_type": "markdown",
   "metadata": {},
   "source": [
    "## Prerequisites"
   ]
  },
  {
   "cell_type": "markdown",
   "metadata": {},
   "source": [
    "#### Computer Science\n",
    "This tutorial assumes knowledge introductory computer science topics such as loops, recursion, and list comprehensions in Python. We also assume object oriented programming background which we will use to model objects."
   ]
  },
  {
   "cell_type": "markdown",
   "metadata": {},
   "source": [
    "#### Linear Algebra\n",
    "\n",
    "We'll be using basic vector geometry to model light, so it is important to know the following properties:\n",
    " - **Vector between two points**: To compute a vector between points $A$ and $B$, we subtract $B - A$ \n",
    " - **Length of a vector**: denoted $\\vert \\vert \\overrightarrow{v} \\vert \\vert$, is the square root of the sum of the squared components: for vector $\\overrightarrow{v} = \\langle a, b \\rangle$, then $\\vert \\vert \\overrightarrow{v} \\vert \\vert = \\sqrt{a^2 + b^2}$.\n",
    " - **Unit-vector**: a vector of length 1: $\\vert \\vert \\overrightarrow{u} \\vert \\vert = 1$\n",
    " - **Normalization**: divide each component of a vector by its length. This gives us a unit vector pointing in the same direction: $\\overrightarrow{u} = \\overrightarrow{v} / \\vert \\vert \\overrightarrow{v} \\vert \\vert$\n",
    " - **Dot product**: sum of the product of each component. The dot product of a vector with itself is $\\overrightarrow{v} \\cdot \\overrightarrow{v} = \\vert \\vert \\overrightarrow{v} \\vert \\vert^2$\n",
    " - **Solving a quadratic equation**"
   ]
  },
  {
   "cell_type": "markdown",
   "metadata": {},
   "source": [
    "#### Physics\n",
    "\n",
    "We will be modeling rays of light and their intersection with objects. We only expect a very basic understanding of light which is usually covered in high-school physics"
   ]
  },
  {
   "cell_type": "markdown",
   "metadata": {},
   "source": [
    "## What is Ray Tracing?"
   ]
  },
  {
   "cell_type": "markdown",
   "metadata": {},
   "source": [
    "*Ray tracing* **simulates paths of light** as they **intersect with objects** to render highly-realistic images from scratch. More optimized versions of this ray tracing algorithm are used in many CGI movies and modern video games, such as *Stray* [1] pictured below. "
   ]
  },
  {
   "cell_type": "markdown",
   "metadata": {},
   "source": [
    "![picture](https://drive.google.com/uc?export=view&id=12zeBJrD0HrQpjoXe5iPn4xZ4qmL2hUVV)\n",
    "\n",
    "Realistic scene from the video game *Stray* [1]."
   ]
  },
  {
   "cell_type": "markdown",
   "metadata": {},
   "source": [
    "Notice the reflections of light in the puddles and textures of the scene objects? Running the game quickly with these highly-realistic visuals is possible because of ray tracing! As you complete this tutorial, you'll be one step closer to creating visuals like these. Neat!"
   ]
  },
  {
   "cell_type": "markdown",
   "metadata": {},
   "source": [
    "## Setup the scene"
   ]
  },
  {
   "cell_type": "markdown",
   "metadata": {},
   "source": [
    "For this ray tracing algorithm, we need to set up a **scene** with the following components:\n",
    " - **3D space**: a three coordinate graph, which we'll store in an array\n",
    " - **Objects**: Spheres, Cubes, etc. to simulate the dining table, chairs, walls, and plant.\n",
    " - **Light source**: One position where light will emit from\n",
    " - **Camera**: One position to observe the scene\n",
    " - **Screen**: A rectangle where the camera is looking through to observe the objects\n",
    "\n",
    "TODO: Insert visual of these objects (we probably want to make our own)"
   ]
  },
  {
   "cell_type": "markdown",
   "metadata": {},
   "source": [
    "### Creating our 3D Space"
   ]
  },
  {
   "cell_type": "markdown",
   "metadata": {},
   "source": [
    "Before we start coding, let's import our required libraries.\n",
    "\n",
    "The `NumPy` will help us perform vector geometry on arrays. In this tutorial, we'll be using many `NumPy` arrays, which you can think of as lists of lists in Python. `NumPy` will provide us with useful functions to manipulate those arrays efficiently.\n",
    "\n",
    "`matplotlib`, specifically `matplotlib.pyplot`, is often used to produce plots and figures in Python. In this tutorial, we'll use it to display our image."
   ]
  },
  {
   "cell_type": "code",
   "execution_count": 6,
   "metadata": {},
   "outputs": [],
   "source": [
    "import numpy as np\n",
    "import matplotlib.pyplot as plt"
   ]
  },
  {
   "cell_type": "markdown",
   "metadata": {},
   "source": [
    "Let's start creating our scene. First we can decide how big our scene is by creating `height` and `width` variables.  For now, we'll create a scene of 300x200 pixels."
   ]
  },
  {
   "cell_type": "code",
   "execution_count": 7,
   "metadata": {},
   "outputs": [],
   "source": [
    "width = 300\n",
    "height = 200"
   ]
  },
  {
   "cell_type": "markdown",
   "metadata": {},
   "source": [
    "Now, we can create our `image`, which will be a three dimensional `NumPy` array with the x-axis as height and the y-axis as width. Our z-axis only needs to consist of 3 points for just our camera, the screen, and the objects.\n",
    "\n",
    "To create this array, we'll use `np.zeros`. This function takes in a *shape* (an int or a tuple of ints) and creates a `NumPy` array of the given shape filled with zeros. You can read the documentation [here](https://numpy.org/doc/stable/reference/generated/numpy.zeros.html)."
   ]
  },
  {
   "cell_type": "code",
   "execution_count": 8,
   "metadata": {},
   "outputs": [],
   "source": [
    "image = np.zeros((height, width, 3))"
   ]
  },
  {
   "cell_type": "markdown",
   "metadata": {},
   "source": [
    "Let's create our camera. To make things simple, we'll put it at (x=0, y=0, and z=-1). "
   ]
  },
  {
   "cell_type": "code",
   "execution_count": 9,
   "metadata": {},
   "outputs": [],
   "source": [
    "camera = np.array([0,0,1])"
   ]
  },
  {
   "cell_type": "markdown",
   "metadata": {},
   "source": [
    "We can choose the amount of space we want our screen to occupy. Since our objects, camera, and screen size are relative to each other, we can make things easier for ourselves by making our screen width from x=-1 to x=1. It's important, however, to maintain the correct aspect ratio of our screen size, so we'll have to set our screen height to range from y=1/(width/height) and y=-1/(width/height) "
   ]
  },
  {
   "cell_type": "code",
   "execution_count": 10,
   "metadata": {},
   "outputs": [],
   "source": [
    "ratio = width / height\n",
    "screen = (-1, 1 / ratio, 1, -1 / ratio) # left, top, right, bottom"
   ]
  },
  {
   "cell_type": "markdown",
   "metadata": {},
   "source": [
    "To check that we have things set up correctly, let's try displaying the image. We can use `plt.imshow` which takes in an array and displays it as an image. We'll also turn off our axis since we're only concerned with viewing the image, not a plot, using `plt.axis(\"off\")`. We'll still have a small white border."
   ]
  },
  {
   "cell_type": "code",
   "execution_count": 11,
   "metadata": {},
   "outputs": [
    {
     "data": {
      "text/plain": [
       "<matplotlib.image.AxesImage at 0x26bc7797e20>"
      ]
     },
     "execution_count": 11,
     "metadata": {},
     "output_type": "execute_result"
    },
    {
     "data": {
      "image/png": "[encoded data removed]",
      "text/plain": [
       "<Figure size 640x480 with 1 Axes>"
      ]
     },
     "metadata": {},
     "output_type": "display_data"
    }
   ],
   "source": [
    "plt.axis(\"off\")\n",
    "plt.imshow(image)"
   ]
  },
  {
   "cell_type": "markdown",
   "metadata": {},
   "source": [
    "Nice! This gives us what we'd expect so far, which is just a black image."
   ]
  },
  {
   "cell_type": "markdown",
   "metadata": {},
   "source": [
    "### Defining Objects"
   ]
  },
  {
   "cell_type": "markdown",
   "metadata": {},
   "source": [
    "Now that we have a scene, we'll need to define objects. We can keep our objects stored in a list. Since we haven't implemented any objects yet, this list will be empty for now."
   ]
  },
  {
   "cell_type": "code",
   "execution_count": 4,
   "metadata": {},
   "outputs": [],
   "source": [
    "objects = []"
   ]
  },
  {
   "cell_type": "markdown",
   "metadata": {},
   "source": [
    "For each object stored in this list, we'll want to associate a `type` with it (such as \"plane\", \"sphere\", etc.) and the `position` of the object as a coordinate in our 3D space."
   ]
  },
  {
   "cell_type": "markdown",
   "metadata": {},
   "source": [
    "Along with storing a list of our objects, we also want to define an `intersect` function for each object that will tell us if a particular ray is intersecting with the defined object. This will help us simulate how a ray of light bounces off objects in a room."
   ]
  },
  {
   "cell_type": "markdown",
   "metadata": {},
   "source": [
    "#### Defining a plane"
   ]
  },
  {
   "cell_type": "markdown",
   "metadata": {},
   "source": [
    "First, we'll add a floor to our image by defining a plane. We'll position our plane on the ground of our screen at (x=0, y=1, z=0). The conventional way to define a plane in computer graphics is to store a point on the plane and the vector normal to its surface."
   ]
  },
  {
   "cell_type": "code",
   "execution_count": 12,
   "metadata": {},
   "outputs": [],
   "source": [
    "objects.append({'type': 'plane', 'position': np.array([0.0, -1.0, 0.0]), 'normal': np.array([0.0, 1.0, 0.0])})"
   ]
  },
  {
   "cell_type": "markdown",
   "metadata": {},
   "source": [
    "Now, we'll need a function to say when a ray with an associated *ray_origin* and *ray_direction* intersects with our plane at a given *position* with a given *normal*.\n",
    "\n",
    "We compute the distance of the ray and intersection point using the [formula](https://en.wikipedia.org/wiki/Line%E2%80%93plane_intersection)[X] for line-plane intersection.\n",
    "\n",
    "TODO: Add reference for the formula and input number X"
   ]
  },
  {
   "cell_type": "code",
   "execution_count": 13,
   "metadata": {},
   "outputs": [],
   "source": [
    "def plane_intersect(position, normal, ray_origin, ray_direction):\n",
    "    denom = np.dot(ray_direction, normal)\n",
    "    if np.abs(denom) < 1e-6:\n",
    "        return None\n",
    "    dist = -np.dot(ray_origin - position, normal) / denom\n",
    "    if dist < 0:\n",
    "        return None\n",
    "    return dist"
   ]
  },
  {
   "cell_type": "markdown",
   "metadata": {},
   "source": [
    "#### Defining a Sphere\n",
    "\n",
    "Spheres can be defined as a center position with a radius. Let's add three spheres to our list of objects."
   ]
  },
  {
   "cell_type": "code",
   "execution_count": 14,
   "metadata": {},
   "outputs": [],
   "source": [
    "objects.append({'type': 'sphere', 'center': np.array([-0.2, 0, -1]), 'radius': 0.7})\n",
    "objects.append({'type': 'sphere', 'center': np.array([0.1, -0.3, 0]), 'radius': 0.1})\n",
    "objects.append({'type': 'sphere', 'center': np.array([-0.3, 0, 0]), 'radius': 0.15})"
   ]
  },
  {
   "cell_type": "markdown",
   "metadata": {},
   "source": [
    "Let's define our `sphere_intersect` function. \n",
    "\n",
    "Note for reviewers: the `sphere_intersect` function essentially solves a quadratic equation.\n",
    "\n",
    "TODO: Decide if we want to keep the spheres. If so, add text explanation."
   ]
  },
  {
   "cell_type": "code",
   "execution_count": 15,
   "metadata": {},
   "outputs": [],
   "source": [
    "def sphere_intersect(center, radius, ray_origin, ray_direction):\n",
    "    b = 2 * np.dot(ray_direction, ray_origin - center)\n",
    "    c = np.linalg.norm(ray_origin - center) ** 2 - radius ** 2\n",
    "    delta = b ** 2 - 4 * c\n",
    "    if delta > 0:\n",
    "        t1 = (-b + np.sqrt(delta)) / 2\n",
    "        t2 = (-b - np.sqrt(delta)) / 2\n",
    "        if t1 > 0 and t2 > 0:\n",
    "            return min(t1, t2)\n",
    "    return None"
   ]
  },
  {
   "cell_type": "markdown",
   "metadata": {},
   "source": [
    "#### Defining a Cuboid\n",
    "\n",
    "We also need to create cuboids for our table and chairs. To do this, we'll be creating 2 triangles for each side of the cuboid, meaning we'll have 12 triangles total for the 6 faces. Thus, we define the intersection function of a triangle like so, where a triangle is stored by its 3 vertices. The math to find the line-triangle intersection is very intensive, so here is a link to an [article](https://www.scratchapixel.com/lessons/3d-basic-rendering/ray-tracing-rendering-a-triangle/ray-triangle-intersection-geometric-solution.html) explaining the formula as well as a pseudocode implementation."
   ]
  },
  {
   "cell_type": "code",
   "execution_count": 16,
   "metadata": {},
   "outputs": [],
   "source": [
    "def tri_intersect(vertex_a, vertex_b, vertex_c, ray_origin, ray_direction):\n",
    "    normal = np.cross((vertex_c - vertex_a), (vertex_b - vertex_a))\n",
    "    distance = -np.dot(normal, vertex_a)\n",
    "    dot = np.dot(ray_direction, normal)\n",
    "\n",
    "    if dot < 0.0001:\n",
    "        return None\n",
    "    else:\n",
    "        dist_to_triangle = -(np.dot(normal, ray_origin) + distance) / dot\n",
    "\n",
    "        if dist_to_triangle < 0:\n",
    "            return None\n",
    "\n",
    "        q = ray_direction * dist_to_triangle + ray_origin\n",
    "\n",
    "        ca = vertex_c - vertex_a\n",
    "        qa = q - vertex_a\n",
    "\n",
    "        bc = vertex_b - vertex_c\n",
    "        qc = q - vertex_c\n",
    "\n",
    "        ab = vertex_a - vertex_b\n",
    "        qb = q - vertex_b\n",
    "\n",
    "        inside = np.dot(normal, np.cross(ca, qa)) >= 0 and \\\n",
    "                 np.dot(normal, np.cross(bc, qc)) >= 0 and \\\n",
    "                 np.dot(normal, np.cross(ab, qb)) >= 0\n",
    "\n",
    "        if inside:\n",
    "            # print(dist_to_triangle)\n",
    "            return dist_to_triangle\n",
    "        else:\n",
    "            return None"
   ]
  },
  {
   "cell_type": "markdown",
   "metadata": {},
   "source": [
    "TODO: Add explanation text"
   ]
  },
  {
   "cell_type": "code",
   "execution_count": 17,
   "metadata": {},
   "outputs": [],
   "source": [
    "# TODO: Explain\n",
    "\n",
    "# this is *extremely* slow, but it works\n",
    "def cuboid_intersect(min_p, max_p, ray_origin, ray_direction):\n",
    "    \n",
    "    best_intersect = None\n",
    "    normal = None\n",
    "    \n",
    "    for pa, pb in [[min_p, max_p], [max_p, min_p]]:\n",
    "        #for i, j in [[0, 1], [1, 2], [2, 0]]:\n",
    "        for i, j in [[0, 1], [1, 2], [2, 0]]:\n",
    "            for push_point in [[], [i, j]]:\n",
    "                \n",
    "                p1 = pa.copy()\n",
    "                p2 = pa.copy()\n",
    "                p3 = pa.copy()\n",
    "                \n",
    "                for k in push_point:\n",
    "                    p1[k] = pb[k]\n",
    "\n",
    "                p2[i] = pb[i]\n",
    "                p3[j] = pb[j]\n",
    "\n",
    "                #print(min_p, max_p)\n",
    "                #print(pa, pb)\n",
    "                #print(p1, p2, p3)\n",
    "                #import time; time.sleep(1)\n",
    "\n",
    "                #intersect = tri_intersect(p1, p2, p3, ray_origin, ray_direction)\n",
    "\n",
    "                # this is bad --- triangle intersection only registers if normal\n",
    "                # is oriented correctly, so just try both ways...\n",
    "                intersects = []\n",
    "                intersects.append( tri_intersect(p1, p2, p3, ray_origin, ray_direction) )\n",
    "                intersects.append( tri_intersect(p2, p1, p3, ray_origin, ray_direction) )\n",
    "\n",
    "                for intersect in intersects:\n",
    "                    if intersect is not None:\n",
    "                        if best_intersect is None or intersect < best_intersect:\n",
    "                            best_intersect = intersect\n",
    "    \n",
    "    #if best_intersect is not None:\n",
    "    #    print(\"yay!\")\n",
    "    \n",
    "    return best_intersect"
   ]
  },
  {
   "cell_type": "markdown",
   "metadata": {},
   "source": [
    "We initialize the objects that exist in the scene."
   ]
  },
  {
   "cell_type": "code",
   "execution_count": 18,
   "metadata": {},
   "outputs": [],
   "source": [
    "# TODO: Remove this overall declaration and put each object with their definition\n",
    "# (append every new object to an ongoing objects list as we move through the tutorial)\n",
    "\n",
    "# Creating objects\n",
    "\n",
    "# TODO: Is it ok to delete this first objects list?\n",
    "objects = [\n",
    "    #{'type': 'triangle', 'vertex_a': np.array([0.05, -0.1, 0.0]), 'vertex_b': np.array([0.3, -0.1, 0.0]), 'vertex_c': np.array([0.0, 0.15, 0.5]), 'ambient': np.array([0.5, 0.5, 0.5]), 'diffuse': np.array([0.6, 0.6, 0.6]), 'specular': np.array([0.5, 0.5, 0.5]), 'shininess': 100, 'reflection': 0.5 },\n",
    "    #{'type': 'triangle', 'vertex_b': np.array([0.05, -0.1, 0.0]), 'vertex_a': np.array([0.3, -0.1, 0.0]), 'vertex_c': np.array([0.0, 0.15, 0.5]), 'ambient': np.array([0.5, 0.5, 0.5]), 'diffuse': np.array([0.6, 0.6, 0.6]), 'specular': np.array([0.5, 0.5, 0.5]), 'shininess': 100, 'reflection': 0.5 },\n",
    "    {'type': 'cuboid', \"min_p\": np.array([-0.5, -1.5, -1.5]), \"max_p\": np.array([0.5, -0.5, -0.5]), 'ambient': np.array([0.5, 0.5, 0.5]), 'diffuse': np.array([0.6, 0.6, 0.6]), 'specular': np.array([0.5, 0.5, 0.5]), 'shininess': 100, 'reflection': 0.5 },\n",
    "    ]\n",
    "\n",
    "# horiz, vert, depth\n",
    "objects = [\n",
    "    # bottom\n",
    "    {'type': 'plane', 'position': np.array([0.0, -1.0, 0.0]), 'normal': np.array([0.0, 1.0, 0.0])},\n",
    "    # far\n",
    "    {'type': 'plane', 'position': np.array([0.0, 0.0, -4.0]), 'normal': np.array([0.0, 0.0, 1.0])},\n",
    "    # left\n",
    "    {'type': 'plane', 'position': np.array([-2, 0.0, 0.0]), 'normal': np.array([1.0, 0.0, 0.0])},\n",
    "    # right\n",
    "    {'type': 'plane', 'position': np.array([2, 0.0, 0.0]), 'normal': np.array([1.0, 0.0, 0.0])},\n",
    "    \n",
    "    {'type': 'cuboid', \"min_p\": np.array([-0.5, -0.5, -2.5]), \"max_p\": np.array([0.5, -0.45, -1])},\n",
    "    {'type': 'cuboid', \"min_p\": np.array([-0.5, -1, -1.1]), \"max_p\": np.array([-0.4, -0.5, -1])},\n",
    "    {'type': 'cuboid', \"min_p\": np.array([0.4, -1, -1.1]), \"max_p\": np.array([0.5, -0.5, -1])},\n",
    "    {'type': 'cuboid', \"min_p\": np.array([-0.5, -1, -2.5]), \"max_p\": np.array([-0.4, -0.5, -2.4])},\n",
    "    {'type': 'cuboid', \"min_p\": np.array([0.4, -1, -2.5]), \"max_p\": np.array([0.5, -0.5, -2.4])},\n",
    "]"
   ]
  },
  {
   "cell_type": "markdown",
   "metadata": {},
   "source": [
    "### Defining a ray\n",
    "\n",
    "To define a ray that will start at the *camera* and go to a specific *pixel*, we can define a unit-vector that points in the direction of the camera to the pixel. To get this vector, we can normalize the `pixel - camera` vector.\n",
    "\n",
    "Many of our functions will require normalized vectors, so let's implement a `normalize` function using `np.linalg.norm`, which when given a vector returns the length of the vector (aka the vector norm). You can read the documentation [here](https://numpy.org/doc/stable/reference/generated/numpy.linalg.norm.html)."
   ]
  },
  {
   "cell_type": "code",
   "execution_count": 19,
   "metadata": {},
   "outputs": [],
   "source": [
    "def normalize(vector):\n",
    "    return vector / np.linalg.norm(vector)"
   ]
  },
  {
   "cell_type": "markdown",
   "metadata": {},
   "source": [
    "Now, we want to find the `nearest_intersected_object` for a ray. To do this, we'll utilize our `intersect` functions that we defined for our objects above! Let's write a quick helper function to give us the correct distance depending on which object we're working with."
   ]
  },
  {
   "cell_type": "code",
   "execution_count": 20,
   "metadata": {},
   "outputs": [],
   "source": [
    "def get_distance(obj, ray_origin, ray_direction):\n",
    "    if obj['type'] == 'plane':\n",
    "        return plane_intersect(obj['position'], obj['normal'], ray_origin, ray_direction)\n",
    "    elif obj['type'] == 'sphere':\n",
    "        return sphere_intersect(obj['center'], obj['radius'], ray_origin, ray_direction)\n",
    "    elif obj['type'] == 'triangle':\n",
    "        return tri_intersect(obj['vertex_a'], obj['vertex_b'], obj['vertex_c'], ray_origin, ray_direction)\n",
    "    elif obj['type'] == 'cuboid':\n",
    "        return cuboid_intersect(obj['min_p'], obj['max_p'], ray_origin, ray_direction)"
   ]
  },
  {
   "cell_type": "markdown",
   "metadata": {},
   "source": [
    "With this helper function, let's define our `nearest_intersected_object` function. We'll compute the distance to every object defined, and then we'll find the object with the minimum distance. "
   ]
  },
  {
   "cell_type": "code",
   "execution_count": 22,
   "metadata": {},
   "outputs": [],
   "source": [
    "def nearest_intersected_object(objects, ray_origin, ray_direction):\n",
    "    distances = [get_distance(obj, ray_origin, ray_direction) for obj in objects]\n",
    "    # Could we just filter out the 'Nones' then take the minimum distance?\n",
    "    # distances = filter(lambda x: x != None, distances)\n",
    "    nearest_object = None\n",
    "    min_distance = np.inf\n",
    "    for index, distance in enumerate(distances):\n",
    "        if distance and distance < min_distance:\n",
    "            min_distance = distance\n",
    "            nearest_object = objects[index]\n",
    "    return nearest_object, min_distance"
   ]
  },
  {
   "cell_type": "markdown",
   "metadata": {},
   "source": [
    "These functions calculate the vector representing when a ray bounces from an object and finds the normal vector to the object's surface from the ray."
   ]
  },
  {
   "cell_type": "code",
   "execution_count": 130,
   "metadata": {},
   "outputs": [],
   "source": [
    "def reflected(vector, axis):\n",
    "    return vector - 2 * np.dot(vector, axis) * axis\n",
    "\n",
    "def get_normal_to_surface(obj, intersection):\n",
    "    if obj['type'] == 'plane':\n",
    "        return normalize(obj['normal'])\n",
    "    elif obj['type'] == 'sphere' or obj['type'] == 'box':\n",
    "        return normalize(intersection - obj['center'])\n",
    "    elif obj['type'] == 'triangle':\n",
    "        return normalize(np.cross((obj['vertex_c'] - obj['vertex_a']), (obj['vertex_b'] - obj['vertex_a'])))\n",
    "    elif obj['type'] == 'cuboid':\n",
    "        # TODO: Don't use this\n",
    "        #return normalize(intersection - (obj['min_p'] + obj['max_p']) / 2)\n",
    "        # TODO: Just return normal from intersection calculation...\n",
    "        p_min, p_max = obj['min_p'], obj['max_p']\n",
    "        assert (p_min < p_max).all(), f\"min: {p_min}, max: {p_max}\"\n",
    "        for i in [0, 1, 2]:\n",
    "            for k, point in enumerate([p_min, p_max]):\n",
    "                normal = np.array([0, 0, 0])\n",
    "                normal[i] = 2*k - 1\n",
    "                if np.abs(np.dot(normalize(intersection - point), normal)) < 1e-6:\n",
    "                    #print(point, intersection, normal, dt)\n",
    "                    return normal\n",
    "        raise Exception(\"nooooo......\") "
   ]
  },
  {
   "cell_type": "markdown",
   "metadata": {},
   "source": [
    "## Creating an image"
   ]
  },
  {
   "cell_type": "markdown",
   "metadata": {},
   "source": [
    "To divide our screen into pixels evenly, we'll use `np.linspace`. `np.linspace` will create a `NumPy` array of *num* evenly spaced samples, calculated over the interval [*start*, *stop*] (inclusive). You can read the documentation [here](https://numpy.org/doc/stable/reference/generated/numpy.linspace.html).\n",
    "\n",
    "With `np.linspace`, we can evenly divide the height of our screen by the height of our image and the width of our screen by the width of our image. Then, we can traverse these arrays to get the y and x values of our pixels.\n",
    "\n",
    "TODO: refactor code of for loop and make it into smaller chunks"
   ]
  },
  {
   "cell_type": "code",
   "execution_count": null,
   "metadata": {},
   "outputs": [],
   "source": [
    "light = {\n",
    "    # horiz, vert, depth\n",
    "    'position': np.array([1, 5, 1]),\n",
    "    'position': np.array([5, 5, 5]),\n",
    "    'ambient': np.array([1, 1, 1]),\n",
    "    'diffuse': np.array([1, 1, 1]),\n",
    "    'specular': np.array([1, 1, 1])\n",
    "}"
   ]
  },
  {
   "cell_type": "code",
   "execution_count": 139,
   "metadata": {
    "scrolled": false
   },
   "outputs": [
    {
     "name": "stdout",
     "output_type": "stream",
     "text": [
      "20/200\n",
      "40/200\n",
      "60/200\n",
      "80/200\n",
      "100/200\n",
      "120/200\n",
      "140/200\n",
      "160/200\n",
      "180/200\n",
      "200/200\n"
     ]
    },
    {
     "name": "stderr",
     "output_type": "stream",
     "text": [
      "Clipping input data to the valid range for imshow with RGB data ([0..1] for floats or [0..255] for integers).\n"
     ]
    },
    {
     "data": {
      "text/plain": [
       "<matplotlib.image.AxesImage at 0x7fd2306dc3a0>"
      ]
     },
     "execution_count": 139,
     "metadata": {},
     "output_type": "execute_result"
    },
    {
     "data": {
      "image/png": "[encoded data removed]",
      "text/plain": [
       "<Figure size 640x480 with 1 Axes>"
      ]
     },
     "metadata": {},
     "output_type": "display_data"
    }
   ],
   "source": [
    "image = np.zeros((height, width, 3))\n",
    "\n",
    "for i, y in enumerate(np.linspace(screen[1], screen[3], height)):\n",
    "    for j, x in enumerate(np.linspace(screen[0], screen[2], width)):\n",
    "        \n",
    "        # Image plane is the the xy-plane\n",
    "        pixel = np.array([x, y, 0])\n",
    "        \n",
    "        # Set origin point. When implementing multiple bounces, the origin\n",
    "        # will become some point on an object.\n",
    "        origin = camera\n",
    "        \n",
    "        # The ray runs from the origin through the current pixel\n",
    "        direction = normalize(pixel - origin)\n",
    "\n",
    "        \"\"\"\n",
    "        color = np.zeros((3))\n",
    "        reflection = 1\n",
    "\n",
    "        max_depth = 3\n",
    "        for k in range(max_depth):\n",
    "\n",
    "            # check for intersections\n",
    "            nearest_object, min_distance = nearest_intersected_object(objects, origin, direction)\n",
    "            if nearest_object is None:\n",
    "                break\n",
    "\n",
    "            intersection = origin + min_distance * direction\n",
    "            normal_to_surface = get_normal_to_surface(nearest_object, intersection)\n",
    "            shifted_point = intersection + 1e-5 * normal_to_surface\n",
    "            intersection_to_light = normalize(light['position'] - shifted_point)\n",
    "\n",
    "            _, min_distance = nearest_intersected_object(objects, shifted_point, intersection_to_light)\n",
    "            intersection_to_light_distance = np.linalg.norm(light['position'] - intersection)\n",
    "            is_shadowed = min_distance < intersection_to_light_distance\n",
    "\n",
    "            if is_shadowed:\n",
    "                break\n",
    "\n",
    "            illumination = np.zeros((3))\n",
    "\n",
    "            # ambient\n",
    "            illumination += nearest_object['ambient'] * light['ambient']\n",
    "\n",
    "            # diffuse\n",
    "            illumination += nearest_object['diffuse'] * light['diffuse'] * np.dot(intersection_to_light, normal_to_surface)\n",
    "\n",
    "            # specular\n",
    "            intersection_to_camera = normalize(camera - intersection)\n",
    "            H = normalize(intersection_to_light + intersection_to_camera)\n",
    "            illumination += nearest_object['specular'] * light['specular'] * np.dot(normal_to_surface, H) ** (nearest_object['shininess'] / 4)\n",
    "\n",
    "            # reflection\n",
    "            color += reflection * illumination\n",
    "            reflection *= nearest_object['reflection']\n",
    "\n",
    "            origin = shifted_point\n",
    "            direction = reflected(direction, normal_to_surface)\n",
    "\n",
    "        image[i, j] = np.clip(color, 0, 1)\n",
    "        \"\"\"\n",
    "        \n",
    "        # --- Simple setup for testing ---\n",
    " \n",
    "        # The ray runs from the origin through the current pixel\n",
    "        direction = normalize(pixel - origin)\n",
    "\n",
    "        # check for intersections\n",
    "        nearest_object, min_distance = nearest_intersected_object(objects, origin, direction)\n",
    "        \n",
    "        # The ray intersects with no objects, so leave the pixel black\n",
    "        if nearest_object is None:\n",
    "            continue\n",
    "\n",
    "        # Compute intersection point between ray and nearest object\n",
    "        intersection = origin + min_distance * direction\n",
    "\n",
    "        # Ray from the intersectoin point to light source\n",
    "        intersection_to_light = normalize(light['position'] - intersection)\n",
    "        \n",
    "        # get surface normal\n",
    "        surface_normal = get_normal_to_surface(nearest_object, intersection)\n",
    "        \n",
    "        # Diffuse reflection: the illumination of the point depends only\n",
    "        # on the angle from surface to the light source --- taking the dot\n",
    "        # product of normalized vectors is is the same as taking the cosine\n",
    "        intensity = np.dot(surface_normal, intersection_to_light)\n",
    "        \n",
    "        # go single-channel for now\n",
    "        image[i, j] = np.ones(3) * intensity\n",
    "\n",
    "        # --- Simple setup for testing ---\n",
    "        \n",
    "    if (i + 1) % (height // 10) == 0:\n",
    "        print(f\"{i + 1}/{height}\")\n",
    "\n",
    "plt.axis(\"off\")\n",
    "plt.imshow(image)"
   ]
  },
  {
   "cell_type": "markdown",
   "metadata": {},
   "source": [
    "## Part 4: Reflection Modeling\n",
    "\n",
    "Next, we must determine the actual color to assign to each pixel. The first step in this process is to cast a ray from the point of intersection at the object to the light source, in order to determine if the object is shadowed by any other objects. We can then determine the illumination of the point. In the interest of beginning with the simplest possible system, we can begin with a simple diffuse reflection model in which light from the source is scattered in all directions. In this case, the illumination of a point on an object can be calculated based on the angle between the surface normal at that point and the ray which runs from the point to the light source — the cosine of the angle will give us the illumination of the point. The color of the object can also be incorporated at this point. Once we complete this step, we should be able to create a basic rendering of the scene.\n",
    "\n",
    "Tasks:\n",
    "\n",
    "- Cast rays to determine whether a given point is in shadow.\n",
    "- Calculate illumination based on angle between surface and light source.\n",
    "- Determine final pixel color by combining degree of illumination and color of object."
   ]
  },
  {
   "cell_type": "code",
   "execution_count": null,
   "metadata": {},
   "outputs": [],
   "source": [
    "# TODO!"
   ]
  },
  {
   "cell_type": "markdown",
   "metadata": {},
   "source": [
    "## Part 5: Enhancements\n",
    "\n",
    "Once we have created a basic rendering of the scene, we will add enhancements that will improve the photorealism of the scene. Some possibilities are listed below.\n",
    "\n",
    "Tasks:\n",
    "\n",
    "- Implement the Phong reflection model to shade objects more accurately by including specular, diffuse, and ambient components.\n",
    "- Adding multiple bounces in order to render reflections.\n",
    "- Implement refraction for transparent/translucent objects.\n",
    "- Implement textures by varying shading parameters across the surface of an object.\n",
    "- (If time allows) More complicated geometries. For example, import an STL file, and parse it to determine the set of triangular surfaces in 3D space that it represents."
   ]
  },
  {
   "cell_type": "code",
   "execution_count": null,
   "metadata": {},
   "outputs": [],
   "source": [
    "# TODO!"
   ]
  },
  {
   "cell_type": "markdown",
   "metadata": {},
   "source": [
    "---\n",
    "References\n",
    "\n",
    "[1] Stray. Steam Windows PC version, 19 Jul. 2022. https://stray.game/.\n",
    "\n",
    "[2] https://numpy.org/doc/stable/reference/generated/numpy.zeros.html\n",
    "\n",
    "[3] https://numpy.org/doc/stable/reference/generated/numpy.linspace.html\n",
    "\n",
    "[4] https://numpy.org/doc/stable/reference/generated/numpy.linalg.norm.html\n",
    "\n",
    "TODO: add/complete references"
   ]
  }
 ],
 "metadata": {
  "kernelspec": {
   "display_name": "Python 3 (ipykernel)",
   "language": "python",
   "name": "python3"
  },
  "language_info": {
   "codemirror_mode": {
    "name": "ipython",
    "version": 3
   },
   "file_extension": ".py",
   "mimetype": "text/x-python",
   "name": "python",
   "nbconvert_exporter": "python",
   "pygments_lexer": "ipython3",
   "version": "3.10.11"
  },
  "toc": {
   "base_numbering": 1,
   "nav_menu": {},
   "number_sections": true,
   "sideBar": true,
   "skip_h1_title": false,
   "title_cell": "Table of Contents",
   "title_sidebar": "Contents",
   "toc_cell": true,
   "toc_position": {},
   "toc_section_display": true,
   "toc_window_display": false
  }
 },
 "nbformat": 4,
 "nbformat_minor": 4
}
