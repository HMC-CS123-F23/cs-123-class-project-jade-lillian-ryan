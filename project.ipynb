{
 "cells": [
  {
   "cell_type": "markdown",
   "metadata": {
    "toc": true
   },
   "source": [
    "# Ray Tracing"
   ]
  },
  {
   "cell_type": "markdown",
   "metadata": {},
   "source": [
    "**Team**: Jade Kessinger, Ryan Nguyen, Lillian Vernooy\n",
    "\n",
    "**Summary**: Users will be able to perform vector operations on rays that are simulating photons and render a realistic image of some simple object, i.e., spheres, cubes, cylinders, etc. This will provide insight into how we as programmers simplify and approximate real-life physics into something computable with finite memory and time, which is a good step into more complex concepts in computer graphics, such as simulating water, snow, fire, etc.\n",
    "\n",
    "**Audience**: Students who are familiar with Python and basic vector geometry, but haven't had much experience with computer graphics. These individuals are interested in simulating light in a virtual environment and learning about how computers render images, but not necessarily a complex graphics engine.\n",
    "\n",
    "**Libraries used**: NumPy\n",
    "\n",
    "**Vocabulary**: rays, vector operations, pixels, images, computer graphics, physics, virtual camera, image"
   ]
  },
  {
   "cell_type": "markdown",
   "metadata": {},
   "source": [
    "## Part 1: Introduction/Motivation\n",
    "\n",
    "In this section, we will provide an outline of how the ray tracing algorithm works. We want to make sure that the user has a high-level understanding of the process before we begin writing code, so that they understand the purpose of each part of the system as we implement it.\n",
    "\n",
    "Tasks:\n",
    "\n",
    "- Provide a high-level overview of the ray tracing process."
   ]
  },
  {
   "cell_type": "code",
   "execution_count": 1,
   "metadata": {},
   "outputs": [],
   "source": [
    "# TODO!"
   ]
  },
  {
   "cell_type": "markdown",
   "metadata": {},
   "source": [
    "## Part 2: Scene Geometry Construction\n",
    "\n",
    "Next, we must construct the geometry that we will render. In order to apply ray tracing to the geometry, every object or surface in the scene must be described by a function, so that the intersection (if it exists) of a casted ray can be calculated with each element in the scene. For an arbitrary geometry, this could quickly become complicated, so it will be desirable to create a small set of functions to describe simple geometric primitives, and then to build our scene geometry out of these.\n",
    "\n",
    "Tasks:\n",
    "\n",
    "- Write a set of generic functions to describe the surfaces of some set of geometric objects.\n",
    "- Create a 3D coordinate system in which the scene will reside.\n",
    "- Build up the scene by using our set of functions to describe actual objects in the space. "
   ]
  },
  {
   "cell_type": "code",
   "execution_count": 2,
   "metadata": {},
   "outputs": [],
   "source": [
    "# TODO!"
   ]
  },
  {
   "cell_type": "markdown",
   "metadata": {},
   "source": [
    "## Part 3: Ray Tracing\n",
    "\n",
    "Our third task will be to implement the actual ray tracing operation, in which rays are cast outwards to determine where objects will appear in the image. First, we will decide on a point in space to be the camera position, and define a rectangle to be the focal plane. Then, we create an array to represent the image, and map each pixel to a location on the focal plane. Finally, we can determine which object in the scene each pixel in the camera will display, by casting a ray out from the camera through a given pixel in the focal plane, and then recording which object (and the corresponding point in space) that the ray impacts first.\n",
    "\n",
    "Tasks:\n",
    "\n",
    "- Define the camera and focal plane positions.\n",
    "- Create an array to represent the image, and determine the location of each pixel on the focal plane.\n",
    "- Cast a ray from the camera position through each pixel in the focal plane, and determine the nearest object that each ray intersects (and the intersection point)."
   ]
  },
  {
   "cell_type": "code",
   "execution_count": 3,
   "metadata": {},
   "outputs": [],
   "source": [
    "# TODO!"
   ]
  },
  {
   "cell_type": "markdown",
   "metadata": {},
   "source": [
    "## Part 4: Reflection Modeling\n",
    "\n",
    "Next, we must determine the actual color to assign to each pixel. The first step in this process is to cast a ray from the point of intersection at the object to the light source, in order to determine if the object is shadowed by any other objects. We can then determine the illumination of the point. In the interest of beginning with the simplest possible system, we can begin with a simple diffuse reflection model in which light from the source is scattered in all directions. In this case, the illumination of a point on an object can be calculated based on the angle between the surface normal at that point and the ray which runs from the point to the light source — the cosine of the angle will give us the illumination of the point. The color of the object can also be incorporated at this point. Once we complete this step, we should be able to create a basic rendering of the scene.\n",
    "\n",
    "Tasks:\n",
    "\n",
    "- Cast rays to determine whether a given point is in shadow.\n",
    "- Calculate illumination based on angle between surface and light source.\n",
    "- Determine final pixel color by combining degree of illumination and color of object."
   ]
  },
  {
   "cell_type": "code",
   "execution_count": 4,
   "metadata": {},
   "outputs": [],
   "source": [
    "# TODO!"
   ]
  },
  {
   "cell_type": "markdown",
   "metadata": {},
   "source": [
    "## Part 5: Enhancements\n",
    "\n",
    "Once we have created a basic rendering of the scene, we will add enhancements that will improve the photorealism of the scene. Some possibilities are listed below.\n",
    "\n",
    "Tasks:\n",
    "\n",
    "- Implement the Phong reflection model to shade objects more accurately by including specular, diffuse, and ambient components.\n",
    "- Adding multiple bounces in order to render reflections.\n",
    "- Implement refraction for transparent/translucent objects.\n",
    "- Implement textures by varying shading parameters across the surface of an object.\n",
    "- (If time allows) More complicated geometries. For example, import an STL file, and parse it to determine the set of triangular surfaces in 3D space that it represents."
   ]
  },
  {
   "cell_type": "code",
   "execution_count": 5,
   "metadata": {},
   "outputs": [],
   "source": [
    "# TODO!"
   ]
  }
 ],
 "metadata": {
  "kernelspec": {
   "display_name": "Python 3 (ipykernel)",
   "language": "python",
   "name": "python3"
  },
  "language_info": {
   "codemirror_mode": {
    "name": "ipython",
    "version": 3
   },
   "file_extension": ".py",
   "mimetype": "text/x-python",
   "name": "python",
   "nbconvert_exporter": "python",
   "pygments_lexer": "ipython3",
   "version": "3.9.2"
  },
  "toc": {
   "base_numbering": 1,
   "nav_menu": {},
   "number_sections": true,
   "sideBar": true,
   "skip_h1_title": false,
   "title_cell": "Table of Contents",
   "title_sidebar": "Contents",
   "toc_cell": true,
   "toc_position": {},
   "toc_section_display": true,
   "toc_window_display": false
  }
 },
 "nbformat": 4,
 "nbformat_minor": 4
}
