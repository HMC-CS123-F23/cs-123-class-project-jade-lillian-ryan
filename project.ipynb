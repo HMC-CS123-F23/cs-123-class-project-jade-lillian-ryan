{
 "cells": [
  {
   "cell_type": "markdown",
   "metadata": {
    "toc": true
   },
   "source": [
    "# Ray Tracing"
   ]
  },
  {
   "cell_type": "markdown",
   "metadata": {},
   "source": [
    "**Team**: Jade Kessinger, Ryan Nguyen, Lillian Vernooy\n",
    "\n",
    "**Summary**: Users will be able to perform vector operations on rays that are simulating photons and render a realistic image of a dining room scene. This will provide insight into how we as programmers simplify and approximate real-life physics into something computable with finite memory and time, which is a good step into more complex concepts in computer graphics, such as simulating water, snow, fire, etc.\n",
    "\n",
    "**Audience**: Students who are familiar with Python and basic vector geometry, but haven't had much experience with computer graphics. These individuals are interested in simulating light in a virtual environment and learning about how computers render images, but not necessarily a complex graphics engine.\n",
    "\n",
    "**Libraries used**: `NumPy`, `matplotlib`\n",
    "\n",
    "**Vocabulary**: rays, vector operations, pixels, images, computer graphics, physics, virtual camera, image"
   ]
  },
  {
   "cell_type": "markdown",
   "metadata": {},
   "source": [
    "## Introduction"
   ]
  },
  {
   "cell_type": "markdown",
   "metadata": {},
   "source": [
    "![picture](images/dining_scene.png)\n",
    "\n",
    "In this tutorial, we will introduce you to computer graphics by implementing a ray tracing algorithm to generate the above image of a dining room scene. We will use the `Numpy` library for vector geometry and `matplotlib` to display our image.\n",
    "\n",
    "As we move through the tutorial, we will discuss:\n",
    " - What ray tracing is and how it is used in movies and video games\n",
    " - How to create a 3D coordinate system where the scene will reside\n",
    " - How to simulate 3D objects such as cuboids and spheres\n",
    " - How to define a ray moving from a camera to an object\n",
    " - How to simulate light bouncing off an object using vectors normal to the object's surface\n",
    " - How to find which rays intersect with the light source after bouncing off an object\n",
    " - How to display an image with `matplotlib`"
   ]
  },
  {
   "cell_type": "markdown",
   "metadata": {},
   "source": [
    "## Prerequisites"
   ]
  },
  {
   "cell_type": "markdown",
   "metadata": {},
   "source": [
    "#### Computer Science\n",
    "This tutorial assumes knowledge introductory computer science topics such as loops, recursion, and list comprehensions in Python. We also assume object oriented programming background which we will use to model objects."
   ]
  },
  {
   "cell_type": "markdown",
   "metadata": {},
   "source": [
    "#### Linear Algebra\n",
    "\n",
    "We'll be using basic vector geometry to model light, so it is important to know the following properties:\n",
    " - **Vector between two points**: To compute a vector between points $A$ and $B$, we subtract $B - A$ \n",
    " - **Length of a vector**: denoted $\\vert \\vert \\overrightarrow{v} \\vert \\vert$, is the square root of the sum of the squared components: for vector $\\overrightarrow{v} = \\langle a, b \\rangle$, then $\\vert \\vert \\overrightarrow{v} \\vert \\vert = \\sqrt{a^2 + b^2}$.\n",
    " - **Unit-vector**: a vector of length 1: $\\vert \\vert \\overrightarrow{u} \\vert \\vert = 1$\n",
    " - **Normalization**: divide each component of a vector by its length. This gives us a unit vector pointing in the same direction: $\\overrightarrow{u} = \\overrightarrow{v} / \\vert \\vert \\overrightarrow{v} \\vert \\vert$\n",
    " - **Dot product**: sum of the product of each component. The dot product of a vector with itself is $\\overrightarrow{v} \\cdot \\overrightarrow{v} = \\vert \\vert \\overrightarrow{v} \\vert \\vert^2$\n",
    " - **Cross product**: a vector perpendicular to both components and normal to the plane containing them. The cross product is $\\overrightarrow{v} \\cdot \\overrightarrow{u} = \\vert \\vert \\overrightarrow{v} \\vert \\vert \\ \\vert \\vert \\overrightarrow{u} \\vert \\vert \\sin \\theta n$\n",
    " - **Solving a quadratic equation**"
   ]
  },
  {
   "cell_type": "markdown",
   "metadata": {},
   "source": [
    "#### Physics\n",
    "\n",
    "We will be modeling rays of light and their intersection with objects. We only expect a very basic understanding of light which is usually covered in high-school physics"
   ]
  },
  {
   "cell_type": "markdown",
   "metadata": {},
   "source": [
    "## What is Ray Tracing?"
   ]
  },
  {
   "cell_type": "markdown",
   "metadata": {},
   "source": [
    "*Ray tracing* **simulates paths of light** as they **intersect with objects** to render highly-realistic images from scratch. More optimized versions of this ray tracing algorithm are used in many CGI movies and modern video games, such as *Stray* [1] pictured below. "
   ]
  },
  {
   "cell_type": "markdown",
   "metadata": {},
   "source": [
    "![picture](https://drive.google.com/uc?export=view&id=12zeBJrD0HrQpjoXe5iPn4xZ4qmL2hUVV)\n",
    "\n",
    "Realistic scene generated using ray tracing from the video game *Stray* [1]."
   ]
  },
  {
   "cell_type": "markdown",
   "metadata": {},
   "source": [
    "Notice the reflections of light in the puddles and textures of the scene objects? Running the game quickly with these highly-realistic visuals is possible because of ray tracing! As you complete this tutorial, you'll be one step closer to creating visuals like these. Neat!"
   ]
  },
  {
   "cell_type": "markdown",
   "metadata": {},
   "source": [
    "## Setup the scene"
   ]
  },
  {
   "cell_type": "markdown",
   "metadata": {},
   "source": [
    "For this ray tracing algorithm, we need to set up a **scene** with the following components:\n",
    " - **3D space**: a three coordinate graph, which we'll store in an array\n",
    " - **Objects**: Spheres, Cubes, etc. to simulate the dining table, chairs, walls, and plant.\n",
    " - **Light source**: One position where light will emit from\n",
    " - **Camera**: One position to observe the scene\n",
    " - **Screen**: A rectangle where the camera is looking through to observe the objects\n",
    "\n",
    "\n",
    "![picture](https://drive.google.com/uc?export=view&id=1Q16sJHvxedX8a03T-zHbQJqQQYRsmfKq)\n",
    "\n",
    "Scene set-up from Aflak [2]."
   ]
  },
  {
   "cell_type": "markdown",
   "metadata": {},
   "source": [
    "### Creating our 3D Space"
   ]
  },
  {
   "cell_type": "markdown",
   "metadata": {},
   "source": [
    "Before we start coding, let's import our required libraries.\n",
    "\n",
    "The `NumPy` will help us perform vector geometry on arrays. In this tutorial, we'll be using many `NumPy` arrays, which you can think of as lists of lists in Python. `NumPy` will provide us with useful functions to manipulate those arrays efficiently [3].\n",
    "\n",
    "`matplotlib`, specifically `matplotlib.pyplot`, is often used to produce plots and figures in Python. In this tutorial, we'll use it to display our image [4]."
   ]
  },
  {
   "cell_type": "code",
   "execution_count": 1,
   "metadata": {},
   "outputs": [],
   "source": [
    "import numpy as np\n",
    "import matplotlib.pyplot as plt"
   ]
  },
  {
   "cell_type": "markdown",
   "metadata": {},
   "source": [
    "Let's start creating our scene. First we can decide how big our scene is by creating `height` and `width` variables.  For now, we'll create a scene of 300x200 pixels. You'll notice that our images will look pixelated at this size. Because our algorithm will be basic as an introduction to ray tracing, generating images will take some time. However, if you're willing to wait, you can increase the image size and generate a more realistic image. Make sure to keep the image ratio of 3x2 consistent."
   ]
  },
  {
   "cell_type": "code",
   "execution_count": 74,
   "metadata": {},
   "outputs": [],
   "source": [
    "width = 300\n",
    "height = 200"
   ]
  },
  {
   "cell_type": "markdown",
   "metadata": {},
   "source": [
    "Now, we can create our `image`, which will be a three dimensional `NumPy` array with the x-axis as height and the y-axis as width. Our z-axis only needs to consist of 3 points for just our camera, the screen, and the objects.\n",
    "\n",
    "To create this array, we'll use `np.zeros`. This function takes in a *shape* (an int or a tuple of ints) and creates a `NumPy` array of the given shape filled with zeros. You can read the documentation [here](https://numpy.org/doc/stable/reference/generated/numpy.zeros.html) [3]."
   ]
  },
  {
   "cell_type": "code",
   "execution_count": 3,
   "metadata": {},
   "outputs": [],
   "source": [
    "# Code attribution to Aflak [2]\n",
    "\n",
    "image = np.zeros((height, width, 3))"
   ]
  },
  {
   "cell_type": "markdown",
   "metadata": {},
   "source": [
    "Let's create our camera. To make things simple, we'll put it at (x=0, y=0, and z=-1). "
   ]
  },
  {
   "cell_type": "code",
   "execution_count": 4,
   "metadata": {},
   "outputs": [],
   "source": [
    "# Code attribution to Aflak [2]\n",
    "\n",
    "camera = np.array([0,0,1])"
   ]
  },
  {
   "cell_type": "markdown",
   "metadata": {},
   "source": [
    "We can choose the amount of space we want our screen to occupy. Since our objects, camera, and screen size are relative to each other, we can make things easier for ourselves by making our screen width from x=-1 to x=1. It's important, however, to maintain the correct aspect ratio of our screen size, so we'll have to set our screen height to range from y=1/(width/height) and y=-1/(width/height) "
   ]
  },
  {
   "cell_type": "code",
   "execution_count": 5,
   "metadata": {},
   "outputs": [],
   "source": [
    "# Code attribution to Aflak [2]\n",
    "\n",
    "ratio = width / height\n",
    "screen = (-1, 1 / ratio, 1, -1 / ratio) # left, top, right, bottom"
   ]
  },
  {
   "cell_type": "markdown",
   "metadata": {},
   "source": [
    "To check that we have things set up correctly, let's try displaying the image. We can use `plt.imshow` which takes in an array and displays it as an image. We'll also turn off our axis since we're only concerned with viewing the image, not a plot, using `plt.axis(\"off\")` [4]. We'll still have a small white border."
   ]
  },
  {
   "cell_type": "code",
   "execution_count": 6,
   "metadata": {},
   "outputs": [
    {
     "data": {
      "text/plain": [
       "<matplotlib.image.AxesImage at 0x1fa52d35210>"
      ]
     },
     "execution_count": 6,
     "metadata": {},
     "output_type": "execute_result"
    },
    {
     "data": {
      "image/png": "[encoded data removed]",
      "text/plain": [
       "<Figure size 640x480 with 1 Axes>"
      ]
     },
     "metadata": {},
     "output_type": "display_data"
    }
   ],
   "source": [
    "plt.axis(\"off\")\n",
    "plt.imshow(image)"
   ]
  },
  {
   "cell_type": "markdown",
   "metadata": {},
   "source": [
    "Nice! This gives us what we'd expect so far, which is just a black image."
   ]
  },
  {
   "cell_type": "markdown",
   "metadata": {},
   "source": [
    "### Defining Objects"
   ]
  },
  {
   "cell_type": "markdown",
   "metadata": {},
   "source": [
    "Now that we have a scene, we'll need to define objects. We can keep our objects stored in a list. Since we haven't implemented any objects yet, this list will be empty for now."
   ]
  },
  {
   "cell_type": "code",
   "execution_count": 7,
   "metadata": {},
   "outputs": [],
   "source": [
    "objects = []"
   ]
  },
  {
   "cell_type": "markdown",
   "metadata": {},
   "source": [
    "For each object stored in this list, we'll want to associate a `type` with it (such as \"plane\", \"sphere\", etc.) and the `position` of the object as a coordinate in our 3D space."
   ]
  },
  {
   "cell_type": "markdown",
   "metadata": {},
   "source": [
    "Along with storing a list of our objects, we also want to define an `intersect` function for each object that will tell us if a particular ray is intersecting with the defined object. This will help us simulate how a ray of light bounces off objects in a room."
   ]
  },
  {
   "cell_type": "markdown",
   "metadata": {},
   "source": [
    "#### Defining a plane"
   ]
  },
  {
   "cell_type": "markdown",
   "metadata": {},
   "source": [
    "First, we'll add a floor to our image by defining a plane. We'll position our plane on the ground of our screen at (x=0, y=1, z=0). The conventional way to define a plane in computer graphics is to store a point on the plane and the vector normal to its surface."
   ]
  },
  {
   "cell_type": "code",
   "execution_count": 8,
   "metadata": {},
   "outputs": [],
   "source": [
    "objects.append({'type': 'plane', 'position': np.array([0.0, -1.0, 0.0]), 'normal': np.array([0.0, 1.0, 0.0])})"
   ]
  },
  {
   "cell_type": "markdown",
   "metadata": {},
   "source": [
    "Now, we'll need a function to say when a ray with an associated *ray_origin* and *ray_direction* intersects with our plane at a given *position* with a given *normal*.\n",
    "\n",
    "We compute the distance of the ray and intersection point using the [formula](https://en.wikipedia.org/wiki/Line%E2%80%93plane_intersection) [5] for line-plane intersection. Since the math can be a bit troublesome and we want to focus on code, we'll leave links to formulas if you're interested in learning where these equations come from. \n",
    "\n",
    "Note that `np.dot` and `np.abs` are `Numpy` functions. They do what you might expect: compute the dot product and the absolute value! [3]"
   ]
  },
  {
   "cell_type": "code",
   "execution_count": 9,
   "metadata": {},
   "outputs": [],
   "source": [
    "def plane_intersect(position, normal, ray_origin, ray_direction):\n",
    "    denom = np.dot(ray_direction, normal)\n",
    "    if np.abs(denom) < 1e-6:\n",
    "        return None\n",
    "    dist = -np.dot(ray_origin - position, normal) / denom\n",
    "    if dist < 0:\n",
    "        return None\n",
    "    return dist"
   ]
  },
  {
   "cell_type": "markdown",
   "metadata": {},
   "source": [
    "If we were to run our ray tracer once it is fully implemented at the end of the tutorial, we would expect to see this image:\n",
    "\n",
    "![picture](images/plane.png)"
   ]
  },
  {
   "cell_type": "markdown",
   "metadata": {},
   "source": [
    "#### Brief Aside: Defining a Sphere\n",
    "\n",
    "We won't be creating any sphere for our dining room scene. However, spheres are easier to create than our other objects, so understanding this code can be a great introduction to our cuboids and triangles! If you're in a rush, skip ahead to the next section, \"Defining a Cuboid with Triangles\".\n",
    "\n",
    "Spheres are fairly simple to define. All we need is a center position with a radius! Let's add three spheres to our list of objects."
   ]
  },
  {
   "cell_type": "code",
   "execution_count": 10,
   "metadata": {},
   "outputs": [],
   "source": [
    "# Code attribution to Aflak [2]\n",
    "\n",
    "objects.append({'type': 'sphere', 'center': np.array([-0.2, 0, -1]), 'radius': 0.7})\n",
    "objects.append({'type': 'sphere', 'center': np.array([0.1, -0.3, 0]), 'radius': 0.1})\n",
    "objects.append({'type': 'sphere', 'center': np.array([-0.3, 0, 0]), 'radius': 0.15})"
   ]
  },
  {
   "cell_type": "markdown",
   "metadata": {},
   "source": [
    "Let's define our `sphere_intersect` function. You can see the math behind this function in a ray tracing tutorial we've been drawing inspiration from [here](https://omaraflak.medium.com/ray-tracing-from-scratch-in-python-41670e6a96f9) [2]."
   ]
  },
  {
   "cell_type": "code",
   "execution_count": 11,
   "metadata": {},
   "outputs": [],
   "source": [
    "# Code attribution to Aflak [2]\n",
    "\n",
    "def sphere_intersect(center, radius, ray_origin, ray_direction):\n",
    "    b = 2 * np.dot(ray_direction, ray_origin - center)\n",
    "    c = np.linalg.norm(ray_origin - center) ** 2 - radius ** 2\n",
    "    delta = b ** 2 - 4 * c\n",
    "    if delta > 0:\n",
    "        t1 = (-b + np.sqrt(delta)) / 2\n",
    "        t2 = (-b - np.sqrt(delta)) / 2\n",
    "        if t1 > 0 and t2 > 0:\n",
    "            return min(t1, t2)\n",
    "    return None"
   ]
  },
  {
   "cell_type": "markdown",
   "metadata": {},
   "source": [
    "Running our ray tracer, we will see this image:\n",
    "\n",
    "![picture](images/spheres.png)"
   ]
  },
  {
   "cell_type": "markdown",
   "metadata": {},
   "source": [
    "#### Defining a Cuboid with Triangles\n",
    "\n",
    "##### Defining the Triangles\n",
    "\n",
    "We also need to create cuboids (aka 3D rectangles) for our table and chairs. To do this, we'll be creating 2 triangles for each side of the cuboid, meaning we'll have 12 triangles total for the 6 faces. "
   ]
  },
  {
   "cell_type": "markdown",
   "metadata": {},
   "source": [
    "Here is what a triangle will look like in our objects list. We keep track of the type of the object, which is a triangle, and its 3 vertices."
   ]
  },
  {
   "cell_type": "code",
   "execution_count": 12,
   "metadata": {},
   "outputs": [],
   "source": [
    "objects.append({'type': 'triangle', 'vertex_a': np.array([0.05, -0.1, 0.0]), 'vertex_b': np.array([0.3, -0.1, 0.0]), 'vertex_c': np.array([0.0, 0.15, 0.5])})"
   ]
  },
  {
   "cell_type": "markdown",
   "metadata": {},
   "source": [
    "We define the intersection function of a triangle like so. The math to find the line-triangle intersection is very intensive, so here is a link to an [article](https://www.scratchapixel.com/lessons/3d-basic-rendering/ray-tracing-rendering-a-triangle/ray-triangle-intersection-geometric-solution.html) [6] explaining the formula as well as a pseudocode implementation."
   ]
  },
  {
   "cell_type": "code",
   "execution_count": 13,
   "metadata": {},
   "outputs": [],
   "source": [
    "def tri_intersect(vertex_a, vertex_b, vertex_c, ray_origin, ray_direction):\n",
    "    normal = np.cross((vertex_c - vertex_a), (vertex_b - vertex_a))\n",
    "    distance = -np.dot(normal, vertex_a)\n",
    "    dot = np.dot(ray_direction, normal)\n",
    "\n",
    "    if dot < 0.0001:\n",
    "        return None\n",
    "    else:\n",
    "        dist_to_triangle = -(np.dot(normal, ray_origin) + distance) / dot\n",
    "\n",
    "        if dist_to_triangle < 0:\n",
    "            return None\n",
    "\n",
    "        q = ray_direction * dist_to_triangle + ray_origin\n",
    "\n",
    "        ca = vertex_c - vertex_a\n",
    "        qa = q - vertex_a\n",
    "\n",
    "        bc = vertex_b - vertex_c\n",
    "        qc = q - vertex_c\n",
    "\n",
    "        ab = vertex_a - vertex_b\n",
    "        qb = q - vertex_b\n",
    "\n",
    "        inside = np.dot(normal, np.cross(ca, qa)) >= 0 and \\\n",
    "                 np.dot(normal, np.cross(bc, qc)) >= 0 and \\\n",
    "                 np.dot(normal, np.cross(ab, qb)) >= 0\n",
    "\n",
    "        if inside:\n",
    "            return dist_to_triangle\n",
    "        else:\n",
    "            return None"
   ]
  },
  {
   "cell_type": "markdown",
   "metadata": {},
   "source": [
    "We would expect to see this output image if we were to run our ray tracer (considering only the triangle and ground plane):\n",
    "\n",
    "![picture](images/triangle.png)"
   ]
  },
  {
   "cell_type": "markdown",
   "metadata": {},
   "source": [
    "##### Defining a Cuboid\n",
    "\n",
    "Now, we'll leverage our triangle code to create cuboids. \n",
    "\n",
    "First, we can define a cuboid using two corners. `min_p` represents the minimum point, or the bottom left corner, and `max_p` represents the maximum point, or the top left corner."
   ]
  },
  {
   "cell_type": "code",
   "execution_count": 14,
   "metadata": {},
   "outputs": [],
   "source": [
    "objects = [{'type': 'cuboid', \"min_p\": np.array([-0.25, -0.4, -0.25]), \"max_p\": np.array([0.25, -0.15, 0.25])}]"
   ]
  },
  {
   "cell_type": "markdown",
   "metadata": {},
   "source": [
    "TODO: Add explanation text for cuboids"
   ]
  },
  {
   "cell_type": "code",
   "execution_count": 15,
   "metadata": {},
   "outputs": [],
   "source": [
    "#TODO: Add descriptive variable names\n",
    "\n",
    "# Note: this is *extremely* slow, but it works\n",
    "def cuboid_intersect(min_p, max_p, ray_origin, ray_direction):\n",
    "    \n",
    "    best_intersect = None\n",
    "    normal = None\n",
    "    \n",
    "    for pa, pb in [[min_p, max_p], [max_p, min_p]]:\n",
    "        for i, j in [[0, 1], [1, 2], [2, 0]]:\n",
    "            for push_point in [[], [i, j]]:\n",
    "                \n",
    "                p1 = pa.copy()\n",
    "                p2 = pa.copy()\n",
    "                p3 = pa.copy()\n",
    "                \n",
    "                for k in push_point:\n",
    "                    p1[k] = pb[k]\n",
    "\n",
    "                p2[i] = pb[i]\n",
    "                p3[j] = pb[j]\n",
    "\n",
    "                # this is bad --- triangle intersection only registers if normal\n",
    "                # is oriented correctly, so just try both ways...\n",
    "                intersects = []\n",
    "                intersects.append( tri_intersect(p1, p2, p3, ray_origin, ray_direction) )\n",
    "                intersects.append( tri_intersect(p2, p1, p3, ray_origin, ray_direction) )\n",
    "\n",
    "                for intersect in intersects:\n",
    "                    if intersect is not None:\n",
    "                        if best_intersect is None or intersect < best_intersect:\n",
    "                            best_intersect = intersect\n",
    "    \n",
    "    return best_intersect"
   ]
  },
  {
   "cell_type": "markdown",
   "metadata": {},
   "source": [
    "Our output image with only a cuboid should look like this:\n",
    "\n",
    "![picture](images/cube.png)"
   ]
  },
  {
   "cell_type": "markdown",
   "metadata": {},
   "source": [
    "### Initializing the Scene"
   ]
  },
  {
   "cell_type": "markdown",
   "metadata": {},
   "source": [
    "Now, we'll initialize the objects that exist in the scene. When creating our objects, we placed them at random points in our scene. To create our dining room scene, we need to be a bit more precise, lest we get a floating table or a chair on the wall! So, we'll redefine our objects list with the correct positionings."
   ]
  },
  {
   "cell_type": "markdown",
   "metadata": {},
   "source": [
    "First, we'll add planes to the scene such that we get a room. \n",
    "\n",
    "We add the floor below the y-axis at y = -1.0 with the normal pointing upwards. "
   ]
  },
  {
   "cell_type": "code",
   "execution_count": 16,
   "metadata": {},
   "outputs": [],
   "source": [
    "# Floor\n",
    "objects = [{'type': 'plane', 'position': np.array([0.0, -1.0, 0.0]), 'normal': np.array([0.0, 1.0, 0.0])}]"
   ]
  },
  {
   "cell_type": "markdown",
   "metadata": {},
   "source": [
    "Next, we add the back wall further away from the camera, which is at (0, 0, 1) farther past the z-axis at (0, 0, -4.0). The normal will point out towards us."
   ]
  },
  {
   "cell_type": "code",
   "execution_count": 17,
   "metadata": {},
   "outputs": [],
   "source": [
    "# Back Wall\n",
    "objects.append({'type': 'plane', 'position': np.array([0.0, 0.0, -4.0]), 'normal': np.array([0.0, 0.0, 1.0])})"
   ]
  },
  {
   "cell_type": "markdown",
   "metadata": {},
   "source": [
    "For the left and right walls, we'll place them along the x-axis. Let's make our room have an easy-to-work-with width of 4. So, we'll place the left wall at x = -2.0 and the right wall at x = 2.0. Since our light source is to the right, we'll define our normals pointing right"
   ]
  },
  {
   "cell_type": "code",
   "execution_count": 18,
   "metadata": {},
   "outputs": [],
   "source": [
    "# Left\n",
    "objects.append({'type': 'plane', 'position': np.array([-2, 0.0, 0.0]), 'normal': np.array([1.0, 0.0, 0.0])})\n",
    "    \n",
    "# Right\n",
    "objects.append({'type': 'plane', 'position': np.array([2, 0.0, 0.0]), 'normal': np.array([1.0, 0.0, 0.0])})"
   ]
  },
  {
   "cell_type": "markdown",
   "metadata": {},
   "source": [
    "Running the ray tracer on this list of objects would output the following image:\n",
    "\n",
    "![picture](images/room.png)"
   ]
  },
  {
   "cell_type": "markdown",
   "metadata": {},
   "source": [
    "Now let's add a table using our cuboids by using `extend`, which allows us to append the elements of a list to another. \n",
    "\n",
    "To place these objects, first find a spot the looks good for your tabletop. We arbitrarily chose a center location. Then, do some simple math to place the legs of the table. Each leg will be at the x and z positions of the table corner, and they'll need to have a height to go from the floor at y = -1.0 to the tabletop at y = -0.5. After checking your image, feel free to make small adjustments (such as z = -1.1 instead of z = -1.0)."
   ]
  },
  {
   "cell_type": "code",
   "execution_count": 19,
   "metadata": {},
   "outputs": [],
   "source": [
    "objects.extend([\n",
    "    # top\n",
    "    {'type': 'cuboid', \"min_p\": np.array([-0.5, -0.5, -2.5]), \"max_p\": np.array([0.5, -0.45, -1.0])},\n",
    "    # closest left leg\n",
    "    {'type': 'cuboid', \"min_p\": np.array([-0.5, -1.0, -1.1]), \"max_p\": np.array([-0.4, -0.5, -1.0])},\n",
    "    # closest right leg\n",
    "    {'type': 'cuboid', \"min_p\": np.array([0.4, -1.0, -1.1]), \"max_p\": np.array([0.5, -0.5, -1.0])},\n",
    "    # farthest left leg\n",
    "    {'type': 'cuboid', \"min_p\": np.array([-0.5, -1.0, -2.5]), \"max_p\": np.array([-0.4, -0.5, -2.4])},\n",
    "    # farthest right leg\n",
    "    {'type': 'cuboid', \"min_p\": np.array([0.4, -1.0, -2.5]), \"max_p\": np.array([0.5, -0.5, -2.4])}\n",
    "])"
   ]
  },
  {
   "cell_type": "markdown",
   "metadata": {},
   "source": [
    "This will output:\n",
    "\n",
    "![picture](images/table.png)"
   ]
  },
  {
   "cell_type": "markdown",
   "metadata": {},
   "source": [
    "Let us add each chair, also by using cuboids like with the table. \n",
    "\n",
    "We place each chair to the left and right of the table, then add legs and the back in a similar manner to adding our tabletop legs. Use the seat as a reference, and adjusts your points accordingly.\n",
    "\n",
    "*For Prof. Xanda:* It may be best to comment out some or all of the chairs since the code is running a little slowly."
   ]
  },
  {
   "cell_type": "code",
   "execution_count": 20,
   "metadata": {},
   "outputs": [],
   "source": [
    "objects.extend([\n",
    "    # closest left chair\n",
    "    {'type': 'cuboid', \"min_p\": np.array([-0.7, -0.625, -1.25]), \"max_p\": np.array([-0.45, -0.6, -1.0])},  # seat\n",
    "    {'type': 'cuboid', \"min_p\": np.array([-0.725, -1.0, -1.25]), \"max_p\": np.array([-0.7, -0.2, -1.0])},   # back\n",
    "    {'type': 'cuboid', \"min_p\": np.array([-0.475, -1.0, -1.025]), \"max_p\": np.array([-0.45, -0.625, -1.0])},  # right leg\n",
    "    {'type': 'cuboid', \"min_p\": np.array([-0.475, -1.0, -1.25]), \"max_p\": np.array([-0.45, -0.625, -1.225])},  # left leg\n",
    "\n",
    "    # farthest left chair\n",
    "    {'type': 'cuboid', \"min_p\": np.array([-0.7, -0.625, -2.5]), \"max_p\": np.array([-0.45, -0.6, -2.25])},  # seat\n",
    "    {'type': 'cuboid', \"min_p\": np.array([-0.725, -1.0, -2.5]), \"max_p\": np.array([-0.7, -0.2, -2.25])},   # back\n",
    "    {'type': 'cuboid', \"min_p\": np.array([-0.475, -1.0, -2.275]), \"max_p\": np.array([-0.45, -0.625, -2.25])},  # right leg\n",
    "    {'type': 'cuboid', \"min_p\": np.array([-0.475, -1.0, -2.5]), \"max_p\": np.array([-0.45, -0.625, -2.475])},  # left leg\n",
    "\n",
    "    # closest right chair\n",
    "    {'type': 'cuboid', \"min_p\": np.array([0.45, -0.625, -1.25]), \"max_p\": np.array([0.7, -0.6, -1.0])},  # seat\n",
    "    {'type': 'cuboid', \"min_p\": np.array([0.7, -1.0, -1.25]), \"max_p\": np.array([0.725, -0.2, -1.0])},   # back\n",
    "    {'type': 'cuboid', \"min_p\": np.array([0.45, -1.0, -1.025]), \"max_p\": np.array([0.475, -0.625, -1.0])},  # left leg\n",
    "    {'type': 'cuboid', \"min_p\": np.array([0.45, -1.0, -1.25]), \"max_p\": np.array([0.475, -0.625, -1.225])},  # right leg\n",
    "\n",
    "    # farthest right chair\n",
    "    {'type': 'cuboid', \"min_p\": np.array([0.45, -0.625, -2.5]), \"max_p\": np.array([0.7, -0.6, -2.25])},  # seat\n",
    "    {'type': 'cuboid', \"min_p\": np.array([0.7, -1.0, -2.5]), \"max_p\": np.array([0.725, -0.2, -2.25])},   # back\n",
    "    {'type': 'cuboid', \"min_p\": np.array([0.45, -1.0, -2.275]), \"max_p\": np.array([0.475, -0.625, -2.25])},  # left leg\n",
    "    {'type': 'cuboid', \"min_p\": np.array([0.45, -1.0, -2.5]), \"max_p\": np.array([0.475, -0.625, -2.475])}  # right leg\n",
    "])"
   ]
  },
  {
   "cell_type": "markdown",
   "metadata": {},
   "source": [
    "This will output our final desired image:\n",
    "\n",
    "![picture](images/final.png)"
   ]
  },
  {
   "cell_type": "markdown",
   "metadata": {},
   "source": [
    "And now we've added all our objects to the scene, phew! That was a lot of set-up work, but now we can get to actually generating our image by defining rays."
   ]
  },
  {
   "cell_type": "markdown",
   "metadata": {},
   "source": [
    "### Defining a ray"
   ]
  },
  {
   "cell_type": "markdown",
   "metadata": {},
   "source": [
    "First, we'll simulate our ray from our camera to our objects.\n",
    "\n",
    "So, for each ray we want to find the `nearest_intersected_object`. To do this, we'll utilize our `intersect` functions that we defined for our objects above! \n",
    "\n",
    "Let's write a quick helper function to give us the correct distance depending on which object we're working with."
   ]
  },
  {
   "cell_type": "code",
   "execution_count": 22,
   "metadata": {},
   "outputs": [],
   "source": [
    "def get_distance(obj, ray_origin, ray_direction):\n",
    "    if obj['type'] == 'plane':\n",
    "        return plane_intersect(obj['position'], obj['normal'], ray_origin, ray_direction)\n",
    "    elif obj['type'] == 'sphere': # Sphere code attribution to Aflak [2]\n",
    "        return sphere_intersect(obj['center'], obj['radius'], ray_origin, ray_direction)\n",
    "    elif obj['type'] == 'triangle':\n",
    "        return tri_intersect(obj['vertex_a'], obj['vertex_b'], obj['vertex_c'], ray_origin, ray_direction)\n",
    "    elif obj['type'] == 'cuboid':\n",
    "        return cuboid_intersect(obj['min_p'], obj['max_p'], ray_origin, ray_direction)"
   ]
  },
  {
   "cell_type": "markdown",
   "metadata": {},
   "source": [
    "With this helper function, let's define our `nearest_intersected_object` function. We'll compute the distance to every object defined, and then we'll find the object with the minimum distance. "
   ]
  },
  {
   "cell_type": "code",
   "execution_count": 23,
   "metadata": {},
   "outputs": [],
   "source": [
    "# Code attribution to Aflak [2].\n",
    "\n",
    "def nearest_intersected_object(objects, ray_origin, ray_direction):\n",
    "    distances = [get_distance(obj, ray_origin, ray_direction) for obj in objects]\n",
    "    nearest_object = None\n",
    "    min_distance = np.inf\n",
    "    for index, distance in enumerate(distances):\n",
    "        if distance and distance < min_distance:\n",
    "            min_distance = distance\n",
    "            nearest_object = objects[index]\n",
    "    return nearest_object, min_distance"
   ]
  },
  {
   "cell_type": "markdown",
   "metadata": {},
   "source": [
    "Before we continue, let's implement a useful helper function to normalize a vector. We'll implement the `normalize` function using `np.linalg.norm`, which when given a vector returns the length of the vector (aka the vector norm). You can read the documentation [here](https://numpy.org/doc/stable/reference/generated/numpy.linalg.norm.html) [3]."
   ]
  },
  {
   "cell_type": "code",
   "execution_count": 24,
   "metadata": {},
   "outputs": [],
   "source": [
    "# Code attribution to Aflak [2]\n",
    "\n",
    "def normalize(vector):\n",
    "    return vector / np.linalg.norm(vector)"
   ]
  },
  {
   "cell_type": "markdown",
   "metadata": {},
   "source": [
    "Now that we have the ray from the camera to the object, we have to figure out how the ray bounces off the object. Surprisingly, using the normal of the object actually gives us a pretty good approximation of the bounce. This means, for example, for our floor, a ray intersecting the floor at any angle will bounce straight up. \n",
    "\n",
    "This simplifies things for us significantly, and we can usually leverage our function above!"
   ]
  },
  {
   "cell_type": "code",
   "execution_count": 25,
   "metadata": {},
   "outputs": [],
   "source": [
    "def get_normal_to_surface(obj, intersection):\n",
    "    \n",
    "    # For a plane, use the 'normal' property we've already stored\n",
    "    if obj['type'] == 'plane':\n",
    "        return normalize(obj['normal'])\n",
    "    \n",
    "    # For a sphere, bounce straight off by subtracting the center from the intersection point\n",
    "    # Sphere code attribution to Aflak [2]\n",
    "    elif obj['type'] == 'sphere' or obj['type'] == 'box': \n",
    "        return normalize(intersection - obj['center'])\n",
    "    \n",
    "    # For a triangle, we generate two vectors using the vertices and compute the cross product. \n",
    "    # Reminder: taking the cross product of two vectors gives us a ray normal to the plane containing both vectors.\n",
    "    elif obj['type'] == 'triangle':\n",
    "        return normalize(np.cross((obj['vertex_c'] - obj['vertex_a']), (obj['vertex_b'] - obj['vertex_a'])))\n",
    "    \n",
    "    # TODO: For a cuboid, ADD EXPLANATION\n",
    "    elif obj['type'] == 'cuboid':\n",
    "        # TODO: Just return normal from intersection calculation...\n",
    "        p_min, p_max = obj['min_p'], obj['max_p']\n",
    "        assert (p_min < p_max).all(), f\"min: {p_min}, max: {p_max}\"\n",
    "        for i in [0, 1, 2]:\n",
    "            for k, point in enumerate([p_min, p_max]):\n",
    "                normal = np.array([0, 0, 0])\n",
    "                normal[i] = 2*k - 1\n",
    "                if np.abs(np.dot(normalize(intersection - point), normal)) < 1e-6:\n",
    "                    return normal"
   ]
  },
  {
   "cell_type": "markdown",
   "metadata": {},
   "source": [
    "### Defining Our Light Source"
   ]
  },
  {
   "cell_type": "markdown",
   "metadata": {},
   "source": [
    "With our intersection code above, we've created rays from our camera to our objects. Now, we need to figure out if that object is illuminated by checking if that ray intersects with our light source.\n",
    "\n",
    "Let's start by defining one light source. This will be a point in our scene. To make our image dynamic, we'll put our light slightly to the right, above the room, and at the same z-position as our camera to have the front of the image illuminated."
   ]
  },
  {
   "cell_type": "code",
   "execution_count": 21,
   "metadata": {},
   "outputs": [],
   "source": [
    "light = {'position': np.array([1, 5, 1])}"
   ]
  },
  {
   "cell_type": "markdown",
   "metadata": {},
   "source": [
    "So far, our image has been in black and white. Let's add color! We'll use the Blinn-Phong model to simulate color [2], except we'll ignore shininess for simplicity since our objects are relatively flat. \n",
    "\n",
    "In this model, each material requires 2 color properties.\n",
    "\n",
    "**Ambient color**: the base color of an object without light\n",
    "\n",
    "**Diffuse color**: color of an object with light\n",
    "\n",
    "In this model, our light source requires two of these color properties: ambient and diffuse [2]. This model has us add these properties all set to white, or (1, 1, 1).\n",
    "\n",
    "Let's add these properties to our light source."
   ]
  },
  {
   "cell_type": "code",
   "execution_count": 59,
   "metadata": {},
   "outputs": [],
   "source": [
    "# Code attribution to Aflak [2]\n",
    "\n",
    "light = {\n",
    "    'position': np.array([1, 5, 1]), \n",
    "    'ambient': np.array([1, 1, 1]), \n",
    "    'diffuse': np.array([1, 1, 1])\n",
    "}"
   ]
  },
  {
   "cell_type": "markdown",
   "metadata": {},
   "source": [
    "Now, we need to add color to all our objects! We need to redefine our objects list with these four properties added. If you want to choose your own colors, you can use [this](https://rgbcolorpicker.com/0-1) online resource [8]."
   ]
  },
  {
   "cell_type": "code",
   "execution_count": 68,
   "metadata": {},
   "outputs": [],
   "source": [
    "# TESTING: REMOVE LATER\n",
    "\n",
    "# Green Floor\n",
    "objects = [\n",
    "    # Green Floor\n",
    "    {'type': 'plane', 'position': np.array([0.0, -1.0, 0.0]), 'normal': np.array([0.0, 1.0, 0.0]), 'ambient': np.array([0, 0.1, 0]), 'diffuse': np.array([0.408, 0.722, 0.424])},\n",
    "    # White Back Wall\n",
    "    {'type': 'plane', 'position': np.array([0.0, 0.0, -4.0]), 'normal': np.array([0.0, 0.0, 1.0]), 'ambient': np.array([0.1, 0.1, 0.1]), 'diffuse': np.array([1.0, 1.0, 1.0])},\n",
    "    # White Left Wall\n",
    "    {'type': 'plane', 'position': np.array([-2, 0.0, 0.0]), 'normal': np.array([1.0, 0.0, 0.0]), 'ambient': np.array([0.1, 0.1, 0.1]), 'diffuse': np.array([1.0, 1.0, 1.0])},\n",
    "    # White Right Wall\n",
    "    {'type': 'plane', 'position': np.array([2, 0.0, 0.0]), 'normal': np.array([1.0, 0.0, 0.0]), 'ambient': np.array([1.0, 1.0, 1.0]), 'diffuse': np.array([1.0, 1.0, 1.0])},\n",
    "\n",
    "    # Brown Tabletop\n",
    "    {'type': 'cuboid', \"min_p\": np.array([-0.5, -0.5, -2.5]), \"max_p\": np.array([0.5, -0.45, -1.0]), 'ambient': np.array([0.1, 0.08, 0.06]), 'diffuse': np.array([0.969, 0.816, 0.663])},\n",
    "    # Closest left leg\n",
    "    {'type': 'cuboid', \"min_p\": np.array([-0.5, -1.0, -1.1]), \"max_p\": np.array([-0.4, -0.5, -1.0]), 'ambient': np.array([0.1, 0.08, 0.06]), 'diffuse': np.array([0.969, 0.816, 0.663])},\n",
    "    # Closest right leg\n",
    "    {'type': 'cuboid', \"min_p\": np.array([0.4, -1.0, -1.1]), \"max_p\": np.array([0.5, -0.5, -1.0]), 'ambient': np.array([0.1, 0.08, 0.06]), 'diffuse': np.array([0.969, 0.816, 0.663])},\n",
    "    # Farthest left leg\n",
    "    {'type': 'cuboid', \"min_p\": np.array([-0.5, -1.0, -2.5]), \"max_p\": np.array([-0.4, -0.5, -2.4]), 'ambient': np.array([0.1, 0.08, 0.06]), 'diffuse': np.array([0.969, 0.816, 0.663])},\n",
    "    # Farthest right leg\n",
    "    {'type': 'cuboid', \"min_p\": np.array([0.4, -1.0, -2.5]), \"max_p\": np.array([0.5, -0.5, -2.4]), 'ambient': np.array([0.1, 0.08, 0.06]), 'diffuse': np.array([0.969, 0.816, 0.663])}\n",
    "]\n",
    "\n",
    "# Chairs (Comment out for faster code)\n",
    "objects.extend([\n",
    "    # Closest left chair\n",
    "    {'type': 'cuboid', \"min_p\": np.array([-0.7, -0.625, -1.25]), \"max_p\": np.array([-0.45, -0.6, -1.0]), 'ambient': np.array([0.1, 0, 0]), 'diffuse': np.array([0.7, 0, 0])},  # seat\n",
    "    {'type': 'cuboid', \"min_p\": np.array([-0.725, -1.0, -1.25]), \"max_p\": np.array([-0.7, -0.2, -1.0]), 'ambient': np.array([0, 0, 0.1]), 'diffuse': np.array([0, 0, 0.7])},   # back\n",
    "    {'type': 'cuboid', \"min_p\": np.array([-0.475, -1.0, -1.025]), \"max_p\": np.array([-0.45, -0.625, -1.0]), 'ambient': np.array([0.1, 0.08, 0.06]), 'diffuse': np.array([0.969, 0.816, 0.663])},  # right leg\n",
    "    {'type': 'cuboid', \"min_p\": np.array([-0.475, -1.0, -1.25]), \"max_p\": np.array([-0.45, -0.625, -1.225]), 'ambient': np.array([0.1, 0.08, 0.06]), 'diffuse': np.array([0.969, 0.816, 0.663])},  # left leg\n",
    "\n",
    "    # Farthest left chair\n",
    "    {'type': 'cuboid', \"min_p\": np.array([-0.7, -0.625, -2.5]), \"max_p\": np.array([-0.45, -0.6, -2.25]), 'ambient': np.array([0.1, 0, 0]), 'diffuse': np.array([0.7, 0, 0])},  # seat\n",
    "    {'type': 'cuboid', \"min_p\": np.array([-0.725, -1.0, -2.5]), \"max_p\": np.array([-0.7, -0.2, -2.25]), 'ambient': np.array([0, 0, 0.1]), 'diffuse': np.array([0, 0, 0.7])},   # back\n",
    "    {'type': 'cuboid', \"min_p\": np.array([-0.475, -1.0, -2.275]), \"max_p\": np.array([-0.45, -0.625, -2.25]), 'ambient': np.array([0.1, 0.08, 0.06]), 'diffuse': np.array([0.969, 0.816, 0.663])},  # right leg\n",
    "    {'type': 'cuboid', \"min_p\": np.array([-0.475, -1.0, -2.5]), \"max_p\": np.array([-0.45, -0.625, -2.475]), 'ambient': np.array([0.1, 0.08, 0.06]), 'diffuse': np.array([0.969, 0.816, 0.663])},  # left leg\n",
    "\n",
    "    # Closest right chair\n",
    "    {'type': 'cuboid', \"min_p\": np.array([0.45, -0.625, -1.25]), \"max_p\": np.array([0.7, -0.6, -1.0]), 'ambient': np.array([0.1, 0, 0]), 'diffuse': np.array([0.7, 0, 0])},  # seat\n",
    "    {'type': 'cuboid', \"min_p\": np.array([0.7, -1.0, -1.25]), \"max_p\": np.array([0.725, -0.2, -1.0]), 'ambient': np.array([0, 0, 0.1]), 'diffuse': np.array([0, 0, 0.7])},   # back\n",
    "    {'type': 'cuboid', \"min_p\": np.array([0.45, -1.0, -1.025]), \"max_p\": np.array([0.475, -0.625, -1.0]), 'ambient': np.array([0.1, 0.08, 0.06]), 'diffuse': np.array([0.969, 0.816, 0.663])},  # left leg\n",
    "    {'type': 'cuboid', \"min_p\": np.array([0.45, -1.0, -1.25]), \"max_p\": np.array([0.475, -0.625, -1.225]), 'ambient': np.array([0.1, 0.08, 0.06]), 'diffuse': np.array([0.969, 0.816, 0.663])},  # right leg\n",
    "\n",
    "    # Farthest right chair\n",
    "    {'type': 'cuboid', \"min_p\": np.array([0.45, -0.625, -2.5]), \"max_p\": np.array([0.7, -0.6, -2.25]), 'ambient': np.array([0.1, 0, 0]), 'diffuse': np.array([0.7, 0, 0])},  # seat\n",
    "    {'type': 'cuboid', \"min_p\": np.array([0.7, -1.0, -2.5]), \"max_p\": np.array([0.725, -0.2, -2.25]), 'ambient': np.array([0, 0, 0.1]), 'diffuse': np.array([0, 0, 0.7])},   # back\n",
    "    {'type': 'cuboid', \"min_p\": np.array([0.45, -1.0, -2.275]), \"max_p\": np.array([0.475, -0.625, -2.25]), 'ambient': np.array([0.1, 0.08, 0.06]), 'diffuse': np.array([0.969, 0.816, 0.663])},  # left leg\n",
    "    {'type': 'cuboid', \"min_p\": np.array([0.45, -1.0, -2.5]), \"max_p\": np.array([0.475, -0.625, -2.475]), 'ambient': np.array([0.1, 0.08, 0.06]), 'diffuse': np.array([0.969, 0.816, 0.663])}  # right leg\n",
    "])"
   ]
  },
  {
   "cell_type": "markdown",
   "metadata": {},
   "source": [
    "Great! Now that we have colors and light, we can finally create our image!"
   ]
  },
  {
   "cell_type": "markdown",
   "metadata": {},
   "source": [
    "## Creating an image"
   ]
  },
  {
   "cell_type": "markdown",
   "metadata": {},
   "source": [
    "To create our image, we'll need to iterate over every pixel of the screen. Then, simulating a ray from our camera, we'll have to find out if any objects are intersected and if this ray comes from our light source. Based on this, we can add color!\n",
    "\n",
    "Please note that our current ray tracing algorithm is quite slow. Given that we're implementing this from scratch with only `Numpy`, the code can take somewhere along the range of 15 minutes to 40 minutes depending on your local machine. If you want to speed up the process, you can adjust the height and width at the beginning of the tutorial or remove the chairs, since our cuboids take the longest.\n",
    "\n",
    "With that aside, we will explain our code through comments since this large chunk of code is hard to avoid due to the for loop. Please try to follow along!"
   ]
  },
  {
   "cell_type": "code",
   "execution_count": null,
   "metadata": {
    "scrolled": false
   },
   "outputs": [],
   "source": [
    "# Code chunk adapted from Aflak [2]\n",
    "\n",
    "# To divide our screen into pixels evenly, we'll use np.linspace. \n",
    "# np.linspace will create a NumPy array of num evenly spaced samples, calculated over the interval [start, stop] (inclusive). \n",
    "# You can read the documentation here: https://numpy.org/doc/stable/reference/generated/numpy.linspace.html.\n",
    "\n",
    "# With np.linspace, we can evenly divide the height of our screen by the height of our image and the width of our screen by the width of our image.\n",
    "# Then, we can traverse these arrays to get the y and x values of our pixels.\n",
    "\n",
    "for i, y in enumerate(np.linspace(screen[1], screen[3], height)):\n",
    "    for j, x in enumerate(np.linspace(screen[0], screen[2], width)):\n",
    "        \n",
    "        # Image plane is the the xy-plane\n",
    "        pixel = np.array([x, y, 0])\n",
    "        \n",
    "        # Set origin point, our camera\n",
    "        origin = camera\n",
    "        \n",
    "        # The ray runs from the origin through the current pixel\n",
    "        direction = normalize(pixel - origin)\n",
    "\n",
    "        # check for intersections\n",
    "        nearest_object, min_distance = nearest_intersected_object(objects, origin, direction)\n",
    "        \n",
    "        # The ray intersects with no objects, so leave the pixel black\n",
    "        if nearest_object is None:\n",
    "            continue\n",
    "\n",
    "        # Compute intersection point between ray and nearest object\n",
    "        intersection = origin + min_distance * direction\n",
    "\n",
    "        # Ray from the intersectoin point to light source\n",
    "        intersection_to_light = normalize(light['position'] - intersection)\n",
    "        \n",
    "        # Get surface normal\n",
    "        surface_normal = get_normal_to_surface(nearest_object, intersection)\n",
    "        \n",
    "        # Default illumination to black\n",
    "        illumination = np.zeros((3))\n",
    "\n",
    "        # Ambient according to Blinn-Phong model\n",
    "        illumination += nearest_object['ambient'] * light['ambient']\n",
    "\n",
    "        # Diffuse according to Blinn-Phong model\n",
    "        illumination += nearest_object['diffuse'] * light['diffuse'] * np.dot(intersection_to_light, surface_normal)\n",
    "\n",
    "        # np.clip limits the values to be between 0 and 1\n",
    "        image[i, j] = np.clip(illumination, 0, 1)\n",
    "        \n",
    "    # Print some progress checks\n",
    "    if (i + 1) % (height // 10) == 0:\n",
    "        print(f\"{i + 1}/{height}\")\n",
    "\n",
    "plt.axis(\"off\")\n",
    "plt.imshow(image)"
   ]
  },
  {
   "cell_type": "markdown",
   "metadata": {},
   "source": [
    "Yay! Hopefully your code didn't take too long to run. We should have our desired dining hall image now."
   ]
  },
  {
   "cell_type": "markdown",
   "metadata": {},
   "source": [
    "### Next Steps"
   ]
  },
  {
   "cell_type": "markdown",
   "metadata": {},
   "source": [
    "Now that we have a dining hall scene, there are many more directions we could take. Here are a couple ideas for you to explore:\n",
    "\n",
    " - Define classes for each object and use inheritance! (for Mudd CS students, this would be an interesting side project during CS 60)\n",
    " - Implement shadows\n",
    " - Implement reflections\n",
    " - Optimize using a ray tracing engine or compiler, such as `Numba`, a \"ray-tracing engine that enables [the user] to configure a hardware-accelerated tracing-pipeline\" [8]"
   ]
  },
  {
   "cell_type": "markdown",
   "metadata": {},
   "source": [
    "---\n",
    "### References\n",
    "\n",
    "[1] Stray. Steam Windows PC version, 19 Jul. 2022. https://stray.game/.\n",
    "\n",
    "[2] Omar Aflak. 2020. Ray Tracing From Scratch in Python. (2020). https://omaraflak.medium.com/ray-tracing-from-scratch-in-python-41670e6a96f9.\n",
    "\n",
    "[3] Travis Oliphant. 2023. NumPy. https://numpy.org/.\n",
    "\n",
    "[4] Michael Droettboom et. al. 2023. Matplotlib. https://matplotlib.org/.\n",
    "\n",
    "[5] Line–plane intersection. 2023, September 13. In Wikipedia. https://en.wikipedia.org/wiki/Line%E2%80%93plane_intersection.\n",
    "\n",
    "[6] Ray-Tracing: Rendering a Triangle. https://www.scratchapixel.com/lessons/3d-basic-rendering/ray-tracing-rendering-a-triangle/ray-triangle-intersection-geometric-solution.html.\n",
    "\n",
    "[7] RGB 0-1 color picker. https://rgbcolorpicker.com/0-1.\n",
    "\n",
    "[8] Michael Yh Wang. 2022. Writing Ray Tracing Applications in Python Using the Numba Extension for PyOptiX. https://developer.nvidia.com/blog/writing-ray-tracing-apps-in-python-using-numba-for-pyoptix/.\n"
   ]
  }
 ],
 "metadata": {
  "kernelspec": {
   "display_name": "Python 3 (ipykernel)",
   "language": "python",
   "name": "python3"
  },
  "language_info": {
   "codemirror_mode": {
    "name": "ipython",
    "version": 3
   },
   "file_extension": ".py",
   "mimetype": "text/x-python",
   "name": "python",
   "nbconvert_exporter": "python",
   "pygments_lexer": "ipython3",
   "version": "3.10.11"
  },
  "toc": {
   "base_numbering": 1,
   "nav_menu": {},
   "number_sections": true,
   "sideBar": true,
   "skip_h1_title": false,
   "title_cell": "Table of Contents",
   "title_sidebar": "Contents",
   "toc_cell": true,
   "toc_position": {},
   "toc_section_display": true,
   "toc_window_display": false
  }
 },
 "nbformat": 4,
 "nbformat_minor": 4
}
