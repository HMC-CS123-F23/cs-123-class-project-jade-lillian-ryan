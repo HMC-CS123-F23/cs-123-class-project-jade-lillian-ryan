{
 "cells": [
  {
   "cell_type": "markdown",
   "metadata": {},
   "source": [
    "## For Reviewers"
   ]
  },
  {
   "cell_type": "markdown",
   "metadata": {
    "toc": true
   },
   "source": [
    "# Ray Tracing"
   ]
  },
  {
   "cell_type": "markdown",
   "metadata": {},
   "source": [
    "**Team**: Jade Kessinger, Ryan Nguyen, Lillian Vernooy\n",
    "\n",
    "**Summary**: Users will be able to perform vector operations on rays that are simulating photons and render a realistic image of a dining room scene. This will provide insight into how we as programmers simplify and approximate real-life physics into something computable with finite memory and time, which is a good step into more complex concepts in computer graphics, such as simulating water, snow, fire, etc.\n",
    "\n",
    "**Audience**: Students who are familiar with Python and basic vector geometry, but haven't had much experience with computer graphics. These individuals are interested in simulating light in a virtual environment and learning about how computers render images, but not necessarily a complex graphics engine.\n",
    "\n",
    "**Libraries used**: `NumPy`, `matplotlib`\n",
    "\n",
    "**Vocabulary**: rays, vector operations, pixels, images, computer graphics, physics, virtual camera, image"
   ]
  },
  {
   "cell_type": "markdown",
   "metadata": {},
   "source": [
    "## Introduction"
   ]
  },
  {
   "cell_type": "markdown",
   "metadata": {},
   "source": [
    "TODO: add image above once we finish the tutorial\n",
    "\n",
    "In this tutorial, we will introduce you to computer graphics by implementing a ray tracing algorithm to generate an image of a dining room scene, like the one pictured above. We will use the `Numpy` library for vector geometry and `matplotlib` to display our image.\n",
    "\n",
    "As we move through the tutorial, we will discuss:\n",
    " - What ray tracing is and how it is used in movies and video games\n",
    " - How to create a 3D coordinate system where the scene will reside\n",
    " - How to simulate 3D objects such as cuboids and spheres\n",
    " - How to use vector geometry to describe how light interacts with the world by creating an array of pixels\n",
    " - How a camera forms a raster image by having each pixel record light intensity\n",
    " - How to calculate the illumination of an object based on the angle between the surface and light source\n",
    " - How to determine the color of an object based on the degree of illumination\n",
    " - How to display an image with `matplotlib`"
   ]
  },
  {
   "cell_type": "markdown",
   "metadata": {},
   "source": [
    "## Prerequisites"
   ]
  },
  {
   "cell_type": "markdown",
   "metadata": {},
   "source": [
    "#### Computer Science\n",
    "This tutorial assumes knowledge introductory computer science topics such as loops, recursion, and list comprehensions in Python. We also assume object oriented programming background which we will use to model objects."
   ]
  },
  {
   "cell_type": "markdown",
   "metadata": {},
   "source": [
    "#### Linear Algebra\n",
    "\n",
    "We'll be using basic vector geometry to model light, so it is important to know the following properties:\n",
    " - **Vector between two points**: To compute a vector between points $A$ and $B$, we subtract $B - A$ \n",
    " - **Length of a vector**: denoted $\\vert \\vert \\overrightarrow{v} \\vert \\vert$, is the square root of the sum of the squared components: for vector $\\overrightarrow{v} = \\langle a, b \\rangle$, then $\\vert \\vert \\overrightarrow{v} \\vert \\vert = \\sqrt{a^2 + b^2}$.\n",
    " - **Unit-vector**: a vector of length 1: $\\vert \\vert \\overrightarrow{u} \\vert \\vert = 1$\n",
    " - **Normalization**: divide each component of a vector by its length. This gives us a unit vector pointing in the same direction: $\\overrightarrow{u} = \\overrightarrow{v} / \\vert \\vert \\overrightarrow{v} \\vert \\vert$\n",
    " - **Dot product**: sum of the product of each component. The dot product of a vector with itself is $\\overrightarrow{v} \\cdot \\overrightarrow{v} = \\vert \\vert \\overrightarrow{v} \\vert \\vert^2$\n",
    " - **Solving a quadratic equation**"
   ]
  },
  {
   "cell_type": "markdown",
   "metadata": {},
   "source": [
    "#### Physics\n",
    "\n",
    "We will be modeling rays of light and their intersection with objects. We only expect a very basic understanding of light which is usually covered in high-school physics"
   ]
  },
  {
   "cell_type": "markdown",
   "metadata": {},
   "source": [
    "## What is Ray Tracing?"
   ]
  },
  {
   "cell_type": "markdown",
   "metadata": {},
   "source": [
    "*Ray tracing* **simulates paths of light** as they **intersect with objects** to render highly-realistic images from scratch. More optimized versions of this ray tracing algorithm are used in many CGI movies and modern video games, such as *Stray* [1] pictured below. "
   ]
  },
  {
   "cell_type": "markdown",
   "metadata": {},
   "source": [
    "![picture](https://drive.google.com/uc?export=view&id=12zeBJrD0HrQpjoXe5iPn4xZ4qmL2hUVV)\n",
    "\n",
    "Realistic scene generated using ray tracing from the video game *Stray* [1]."
   ]
  },
  {
   "cell_type": "markdown",
   "metadata": {},
   "source": [
    "Notice the reflections of light in the puddles and textures of the scene objects? Running the game quickly with these highly-realistic visuals is possible because of ray tracing! As you complete this tutorial, you'll be one step closer to creating visuals like these. Neat!"
   ]
  },
  {
   "cell_type": "markdown",
   "metadata": {},
   "source": [
    "## Setup the scene"
   ]
  },
  {
   "cell_type": "markdown",
   "metadata": {},
   "source": [
    "For this ray tracing algorithm, we need to set up a **scene** with the following components:\n",
    " - **3D space**: a three coordinate graph, which we'll store in an array\n",
    " - **Objects**: Spheres, Cubes, etc. to simulate the dining table, chairs, walls, and plant.\n",
    " - **Light source**: One position where light will emit from\n",
    " - **Camera**: One position to observe the scene\n",
    " - **Screen**: A rectangle where the camera is looking through to observe the objects\n",
    "\n",
    "\n",
    "![picture](https://drive.google.com/uc?export=view&id=1Q16sJHvxedX8a03T-zHbQJqQQYRsmfKq)\n",
    "\n",
    "Scene set-up from Aflak [2]."
   ]
  },
  {
   "cell_type": "markdown",
   "metadata": {},
   "source": [
    "### Creating our 3D Space"
   ]
  },
  {
   "cell_type": "markdown",
   "metadata": {},
   "source": [
    "Before we start coding, let's import our required libraries.\n",
    "\n",
    "The `NumPy` will help us perform vector geometry on arrays. In this tutorial, we'll be using many `NumPy` arrays, which you can think of as lists of lists in Python. `NumPy` will provide us with useful functions to manipulate those arrays efficiently [3].\n",
    "\n",
    "`matplotlib`, specifically `matplotlib.pyplot`, is often used to produce plots and figures in Python. In this tutorial, we'll use it to display our image [4]."
   ]
  },
  {
   "cell_type": "code",
   "execution_count": 997,
   "metadata": {},
   "outputs": [],
   "source": [
    "import numpy as np\n",
    "import matplotlib.pyplot as plt"
   ]
  },
  {
   "cell_type": "markdown",
   "metadata": {},
   "source": [
    "Let's start creating our scene. First we can decide how big our scene is by creating `height` and `width` variables.  For now, we'll create a scene of 300x200 pixels. You'll notice that our images will look pixelated at this size. Because our algorithm will be basic as an introduction to ray tracing, generating images will take some time. However, if you're willing to wait, you can increase the image size and generate a more realistic image. Make sure to keep the image ratio of 3x2 consistent."
   ]
  },
  {
   "cell_type": "code",
   "execution_count": 998,
   "metadata": {},
   "outputs": [],
   "source": [
    "width = 300\n",
    "height = 200"
   ]
  },
  {
   "cell_type": "markdown",
   "metadata": {},
   "source": [
    "Now, we can create our `image`, which will be a three dimensional `NumPy` array with the x-axis as height and the y-axis as width. Our z-axis only needs to consist of 3 points for just our camera, the screen, and the objects.\n",
    "\n",
    "To create this array, we'll use `np.zeros`. This function takes in a *shape* (an int or a tuple of ints) and creates a `NumPy` array of the given shape filled with zeros. You can read the documentation [here](https://numpy.org/doc/stable/reference/generated/numpy.zeros.html) [3]."
   ]
  },
  {
   "cell_type": "code",
   "execution_count": 999,
   "metadata": {},
   "outputs": [],
   "source": [
    "# Code attribution to Aflak [2]\n",
    "\n",
    "image = np.zeros((height, width, 3))"
   ]
  },
  {
   "cell_type": "markdown",
   "metadata": {},
   "source": [
    "Let's create our camera. To make things simple, we'll put it at (x=0, y=0, and z=-1). "
   ]
  },
  {
   "cell_type": "code",
   "execution_count": 1000,
   "metadata": {},
   "outputs": [],
   "source": [
    "# Code attribution to Aflak [2]\n",
    "\n",
    "camera = np.array([0,0,1])"
   ]
  },
  {
   "cell_type": "markdown",
   "metadata": {},
   "source": [
    "We can choose the amount of space we want our screen to occupy. Since our objects, camera, and screen size are relative to each other, we can make things easier for ourselves by making our screen width from x=-1 to x=1. It's important, however, to maintain the correct aspect ratio of our screen size, so we'll have to set our screen height to range from y=1/(width/height) and y=-1/(width/height) "
   ]
  },
  {
   "cell_type": "code",
   "execution_count": 1001,
   "metadata": {},
   "outputs": [],
   "source": [
    "# Code attribution to Aflak [2]\n",
    "\n",
    "ratio = width / height\n",
    "screen = (-1, 1 / ratio, 1, -1 / ratio) # left, top, right, bottom"
   ]
  },
  {
   "cell_type": "markdown",
   "metadata": {},
   "source": [
    "To check that we have things set up correctly, let's try displaying the image. We can use `plt.imshow` which takes in an array and displays it as an image. We'll also turn off our axis since we're only concerned with viewing the image, not a plot, using `plt.axis(\"off\")` [4]. We'll still have a small white border."
   ]
  },
  {
   "cell_type": "code",
   "execution_count": 1002,
   "metadata": {},
   "outputs": [
    {
     "data": {
      "text/plain": [
       "<matplotlib.image.AxesImage at 0x20ddfe9ea90>"
      ]
     },
     "execution_count": 1002,
     "metadata": {},
     "output_type": "execute_result"
    },
    {
     "data": {
      "image/png": "[encoded data removed]",
      "text/plain": [
       "<Figure size 640x480 with 1 Axes>"
      ]
     },
     "metadata": {},
     "output_type": "display_data"
    }
   ],
   "source": [
    "plt.axis(\"off\")\n",
    "plt.imshow(image)"
   ]
  },
  {
   "cell_type": "markdown",
   "metadata": {},
   "source": [
    "Nice! This gives us what we'd expect so far, which is just a black image."
   ]
  },
  {
   "cell_type": "markdown",
   "metadata": {},
   "source": [
    "### Defining Objects"
   ]
  },
  {
   "cell_type": "markdown",
   "metadata": {},
   "source": [
    "Now that we have a scene, we'll need to define objects. We can keep our objects stored in a list. Since we haven't implemented any objects yet, this list will be empty for now."
   ]
  },
  {
   "cell_type": "code",
   "execution_count": 1003,
   "metadata": {},
   "outputs": [],
   "source": [
    "objects = []"
   ]
  },
  {
   "cell_type": "markdown",
   "metadata": {},
   "source": [
    "For each object stored in this list, we'll want to associate a `type` with it (such as \"plane\", \"sphere\", etc.) and the `position` of the object as a coordinate in our 3D space."
   ]
  },
  {
   "cell_type": "markdown",
   "metadata": {},
   "source": [
    "Along with storing a list of our objects, we also want to define an `intersect` function for each object that will tell us if a particular ray is intersecting with the defined object. This will help us simulate how a ray of light bounces off objects in a room."
   ]
  },
  {
   "cell_type": "markdown",
   "metadata": {},
   "source": [
    "#### Defining a plane"
   ]
  },
  {
   "cell_type": "markdown",
   "metadata": {},
   "source": [
    "First, we'll add a floor to our image by defining a plane. We'll position our plane on the ground of our screen at (x=0, y=1, z=0). The conventional way to define a plane in computer graphics is to store a point on the plane and the vector normal to its surface."
   ]
  },
  {
   "cell_type": "code",
   "execution_count": 1004,
   "metadata": {},
   "outputs": [],
   "source": [
    "objects.append({'type': 'plane', 'position': np.array([0.0, -1.0, 0.0]), 'normal': np.array([0.0, 1.0, 0.0])})"
   ]
  },
  {
   "cell_type": "markdown",
   "metadata": {},
   "source": [
    "Now, we'll need a function to say when a ray with an associated *ray_origin* and *ray_direction* intersects with our plane at a given *position* with a given *normal*.\n",
    "\n",
    "We compute the distance of the ray and intersection point using the [formula](https://en.wikipedia.org/wiki/Line%E2%80%93plane_intersection) [5] for line-plane intersection. Since the math can be a bit troublesome and we want to focus on code, we'll leave links to formulas if you're interested in learning where these equations come from. \n",
    "\n",
    "Note that `np.dot` and `np.abs` are `Numpy` functions. They do what you might expect: compute the dot product and the absolute value! [3]"
   ]
  },
  {
   "cell_type": "code",
   "execution_count": 1005,
   "metadata": {},
   "outputs": [],
   "source": [
    "def plane_intersect(position, normal, ray_origin, ray_direction):\n",
    "    denom = np.dot(ray_direction, normal)\n",
    "    if np.abs(denom) < 1e-6:\n",
    "        return None\n",
    "    dist = -np.dot(ray_origin - position, normal) / denom\n",
    "    if dist < 0:\n",
    "        return None\n",
    "    return dist"
   ]
  },
  {
   "cell_type": "markdown",
   "metadata": {},
   "source": [
    "If we were to run our ray tracer once it is fully implemented at the end of the tutorial, we would expect to see this image:\n",
    "\n",
    "![picture](images/plane.png)"
   ]
  },
  {
   "cell_type": "markdown",
   "metadata": {},
   "source": [
    "#### Brief Aside: Defining a Sphere\n",
    "\n",
    "We won't be creating any sphere for our dining room scene. However, spheres are easier to create than our other objects, so understanding this code can be a great introduction to our cuboids and triangles! If you're in a rush, skip ahead to the next section, \"Defining a Cuboid with Triangles\".\n",
    "\n",
    "Spheres are fairly simple to define. All we need is a center position with a radius! Let's add three spheres to our list of objects."
   ]
  },
  {
   "cell_type": "code",
   "execution_count": 1006,
   "metadata": {},
   "outputs": [],
   "source": [
    "# Code attribution to Aflak [2]\n",
    "\n",
    "objects.append({'type': 'sphere', 'center': np.array([-0.2, 0, -1]), 'radius': 0.7})\n",
    "objects.append({'type': 'sphere', 'center': np.array([0.1, -0.3, 0]), 'radius': 0.1})\n",
    "objects.append({'type': 'sphere', 'center': np.array([-0.3, 0, 0]), 'radius': 0.15})"
   ]
  },
  {
   "cell_type": "markdown",
   "metadata": {},
   "source": [
    "Let's define our `sphere_intersect` function. You can see the math behind this function in a ray tracing tutorial we've been drawing inspiration from [here](https://omaraflak.medium.com/ray-tracing-from-scratch-in-python-41670e6a96f9) [2]."
   ]
  },
  {
   "cell_type": "code",
   "execution_count": 1007,
   "metadata": {},
   "outputs": [],
   "source": [
    "# Code attribution to Aflak [2]\n",
    "\n",
    "def sphere_intersect(center, radius, ray_origin, ray_direction):\n",
    "    b = 2 * np.dot(ray_direction, ray_origin - center)\n",
    "    c = np.linalg.norm(ray_origin - center) ** 2 - radius ** 2\n",
    "    delta = b ** 2 - 4 * c\n",
    "    if delta > 0:\n",
    "        t1 = (-b + np.sqrt(delta)) / 2\n",
    "        t2 = (-b - np.sqrt(delta)) / 2\n",
    "        if t1 > 0 and t2 > 0:\n",
    "            return min(t1, t2)\n",
    "    return None"
   ]
  },
  {
   "cell_type": "markdown",
   "metadata": {},
   "source": [
    "Running our ray tracer, we will see this image:\n",
    "\n",
    "![picture](images/spheres.png)"
   ]
  },
  {
   "cell_type": "markdown",
   "metadata": {},
   "source": [
    "#### Defining a Cuboid with Triangles\n",
    "\n",
    "##### Defining the Triangles\n",
    "\n",
    "We also need to create cuboids (aka 3D rectangles) for our table and chairs. To do this, we'll be creating 2 triangles for each side of the cuboid, meaning we'll have 12 triangles total for the 6 faces. "
   ]
  },
  {
   "cell_type": "markdown",
   "metadata": {},
   "source": [
    "Here is what a triangle will look like in our objects list. We keep track of the type of the object, which is a triangle, and its 3 vertices."
   ]
  },
  {
   "cell_type": "code",
   "execution_count": 1008,
   "metadata": {},
   "outputs": [],
   "source": [
    "objects.append({'type': 'triangle', 'vertex_a': np.array([0.05, -0.1, 0.0]), 'vertex_b': np.array([0.3, -0.1, 0.0]), 'vertex_c': np.array([0.0, 0.15, 0.5])})"
   ]
  },
  {
   "cell_type": "markdown",
   "metadata": {},
   "source": [
    "We define the intersection function of a triangle like so. The math to find the line-triangle intersection is very intensive, so here is a link to an [article](https://www.scratchapixel.com/lessons/3d-basic-rendering/ray-tracing-rendering-a-triangle/ray-triangle-intersection-geometric-solution.html) [6] explaining the formula as well as a pseudocode implementation."
   ]
  },
  {
   "cell_type": "code",
   "execution_count": 1009,
   "metadata": {},
   "outputs": [],
   "source": [
    "def tri_intersect(vertex_a, vertex_b, vertex_c, ray_origin, ray_direction):\n",
    "    normal = np.cross((vertex_c - vertex_a), (vertex_b - vertex_a))\n",
    "    distance = -np.dot(normal, vertex_a)\n",
    "    dot = np.dot(ray_direction, normal)\n",
    "\n",
    "    if dot < 0.0001:\n",
    "        return None\n",
    "    else:\n",
    "        dist_to_triangle = -(np.dot(normal, ray_origin) + distance) / dot\n",
    "\n",
    "        if dist_to_triangle < 0:\n",
    "            return None\n",
    "\n",
    "        q = ray_direction * dist_to_triangle + ray_origin\n",
    "\n",
    "        ca = vertex_c - vertex_a\n",
    "        qa = q - vertex_a\n",
    "\n",
    "        bc = vertex_b - vertex_c\n",
    "        qc = q - vertex_c\n",
    "\n",
    "        ab = vertex_a - vertex_b\n",
    "        qb = q - vertex_b\n",
    "\n",
    "        inside = np.dot(normal, np.cross(ca, qa)) >= 0 and \\\n",
    "                 np.dot(normal, np.cross(bc, qc)) >= 0 and \\\n",
    "                 np.dot(normal, np.cross(ab, qb)) >= 0\n",
    "\n",
    "        if inside:\n",
    "            return dist_to_triangle\n",
    "        else:\n",
    "            return None"
   ]
  },
  {
   "cell_type": "markdown",
   "metadata": {},
   "source": [
    "We would expect to see this output image if we were to run our ray tracer (considering only the triangle and ground plane):\n",
    "\n",
    "![picture](images/triangle.png)"
   ]
  },
  {
   "cell_type": "markdown",
   "metadata": {},
   "source": [
    "##### Defining a Cuboid\n",
    "\n",
    "TODO: Add explanation text for cuboids"
   ]
  },
  {
   "cell_type": "code",
   "execution_count": 1010,
   "metadata": {},
   "outputs": [],
   "source": [
    "objects = [{'type': 'cuboid', \"min_p\": np.array([-0.25, -0.4, -0.25]), \"max_p\": np.array([0.25, -0.15, 0.25])}]"
   ]
  },
  {
   "cell_type": "code",
   "execution_count": 1011,
   "metadata": {},
   "outputs": [],
   "source": [
    "# this is *extremely* slow, but it works\n",
    "def cuboid_intersect(min_p, max_p, ray_origin, ray_direction):\n",
    "    \n",
    "    best_intersect = None\n",
    "    normal = None\n",
    "    \n",
    "    for pa, pb in [[min_p, max_p], [max_p, min_p]]:\n",
    "        for i, j in [[0, 1], [1, 2], [2, 0]]:\n",
    "            for push_point in [[], [i, j]]:\n",
    "                \n",
    "                p1 = pa.copy()\n",
    "                p2 = pa.copy()\n",
    "                p3 = pa.copy()\n",
    "                \n",
    "                for k in push_point:\n",
    "                    p1[k] = pb[k]\n",
    "\n",
    "                p2[i] = pb[i]\n",
    "                p3[j] = pb[j]\n",
    "\n",
    "                # this is bad --- triangle intersection only registers if normal\n",
    "                # is oriented correctly, so just try both ways...\n",
    "                intersects = []\n",
    "                intersects.append( tri_intersect(p1, p2, p3, ray_origin, ray_direction) )\n",
    "                intersects.append( tri_intersect(p2, p1, p3, ray_origin, ray_direction) )\n",
    "\n",
    "                for intersect in intersects:\n",
    "                    if intersect is not None:\n",
    "                        if best_intersect is None or intersect < best_intersect:\n",
    "                            best_intersect = intersect\n",
    "    \n",
    "    return best_intersect"
   ]
  },
  {
   "cell_type": "markdown",
   "metadata": {},
   "source": [
    "Our output image should look like this:\n",
    "\n",
    "![picture](images/cube.png)"
   ]
  },
  {
   "cell_type": "markdown",
   "metadata": {},
   "source": [
    "### Initializing the Scene"
   ]
  },
  {
   "cell_type": "markdown",
   "metadata": {},
   "source": [
    "We initialize the objects that exist in the scene."
   ]
  },
  {
   "cell_type": "markdown",
   "metadata": {},
   "source": [
    "Let us add planes to the scene such that we get a room."
   ]
  },
  {
   "cell_type": "code",
   "execution_count": 1012,
   "metadata": {},
   "outputs": [],
   "source": [
    "objects = [\n",
    "    # bottom\n",
    "    {'type': 'plane', 'position': np.array([0.0, -1.0, 0.0]), 'normal': np.array([0.0, 1.0, 0.0])},\n",
    "    # far\n",
    "    {'type': 'plane', 'position': np.array([0.0, 0.0, -4.0]), 'normal': np.array([0.0, 0.0, 1.0])},\n",
    "    # left\n",
    "    {'type': 'plane', 'position': np.array([-2, 0.0, 0.0]), 'normal': np.array([1.0, 0.0, 0.0])},\n",
    "    # right\n",
    "    {'type': 'plane', 'position': np.array([2, 0.0, 0.0]), 'normal': np.array([1.0, 0.0, 0.0])}\n",
    "]"
   ]
  },
  {
   "cell_type": "markdown",
   "metadata": {},
   "source": [
    "Running the ray tracer on this list of objects, will output the following image:\n",
    "\n",
    "![picture](images/room.png)"
   ]
  },
  {
   "cell_type": "markdown",
   "metadata": {},
   "source": [
    "Now let's add a table using our cuboids by using `extend`, which allows us to append the elements of a list to another."
   ]
  },
  {
   "cell_type": "code",
   "execution_count": 1013,
   "metadata": {},
   "outputs": [],
   "source": [
    "objects.extend([\n",
    "    # top\n",
    "    {'type': 'cuboid', \"min_p\": np.array([-0.5, -0.5, -2.5]), \"max_p\": np.array([0.5, -0.45, -1.0])},\n",
    "    # closest left leg\n",
    "    {'type': 'cuboid', \"min_p\": np.array([-0.5, -1.0, -1.1]), \"max_p\": np.array([-0.4, -0.5, -1.0])},\n",
    "    # closest right leg\n",
    "    {'type': 'cuboid', \"min_p\": np.array([0.4, -1.0, -1.1]), \"max_p\": np.array([0.5, -0.5, -1.0])},\n",
    "    # farthest left leg\n",
    "    {'type': 'cuboid', \"min_p\": np.array([-0.5, -1.0, -2.5]), \"max_p\": np.array([-0.4, -0.5, -2.4])},\n",
    "    # farthest right leg\n",
    "    {'type': 'cuboid', \"min_p\": np.array([0.4, -1.0, -2.5]), \"max_p\": np.array([0.5, -0.5, -2.4])}\n",
    "])"
   ]
  },
  {
   "cell_type": "markdown",
   "metadata": {},
   "source": [
    "This will output:\n",
    "\n",
    "![picture](images/table.png)"
   ]
  },
  {
   "cell_type": "markdown",
   "metadata": {},
   "source": [
    "Let us add each chair, also by using cuboids like with the table.\n",
    "\n",
    "*For Prof. Xanda:* It may be best to comment out some or all of the chairs since the code is running a little slowly."
   ]
  },
  {
   "cell_type": "code",
   "execution_count": 1014,
   "metadata": {},
   "outputs": [],
   "source": [
    "objects.extend([\n",
    "    # closest left chair\n",
    "    {'type': 'cuboid', \"min_p\": np.array([-0.7, -0.625, -1.25]), \"max_p\": np.array([-0.45, -0.6, -1.0])},  # seat\n",
    "    {'type': 'cuboid', \"min_p\": np.array([-0.725, -1.0, -1.25]), \"max_p\": np.array([-0.7, -0.2, -1.0])},   # back\n",
    "    {'type': 'cuboid', \"min_p\": np.array([-0.475, -1.0, -1.025]), \"max_p\": np.array([-0.45, -0.625, -1.0])},  # right leg\n",
    "    {'type': 'cuboid', \"min_p\": np.array([-0.475, -1.0, -1.25]), \"max_p\": np.array([-0.45, -0.625, -1.225])},  # left leg\n",
    "\n",
    "    # farthest left chair\n",
    "    {'type': 'cuboid', \"min_p\": np.array([-0.7, -0.625, -2.5]), \"max_p\": np.array([-0.45, -0.6, -2.25])},  # seat\n",
    "    {'type': 'cuboid', \"min_p\": np.array([-0.725, -1.0, -2.5]), \"max_p\": np.array([-0.7, -0.2, -2.25])},   # back\n",
    "    {'type': 'cuboid', \"min_p\": np.array([-0.475, -1.0, -2.275]), \"max_p\": np.array([-0.45, -0.625, -2.25])},  # right leg\n",
    "    {'type': 'cuboid', \"min_p\": np.array([-0.475, -1.0, -2.5]), \"max_p\": np.array([-0.45, -0.625, -2.475])},  # left leg\n",
    "\n",
    "    # closest right chair\n",
    "    {'type': 'cuboid', \"min_p\": np.array([0.45, -0.625, -1.25]), \"max_p\": np.array([0.7, -0.6, -1.0])},  # seat\n",
    "    {'type': 'cuboid', \"min_p\": np.array([0.7, -1.0, -1.25]), \"max_p\": np.array([0.725, -0.2, -1.0])},   # back\n",
    "    {'type': 'cuboid', \"min_p\": np.array([0.45, -1.0, -1.025]), \"max_p\": np.array([0.475, -0.625, -1.0])},  # left leg\n",
    "    {'type': 'cuboid', \"min_p\": np.array([0.45, -1.0, -1.25]), \"max_p\": np.array([0.475, -0.625, -1.225])},  # right leg\n",
    "\n",
    "    # farthest right chair\n",
    "    {'type': 'cuboid', \"min_p\": np.array([0.45, -0.625, -2.5]), \"max_p\": np.array([0.7, -0.6, -2.25])},  # seat\n",
    "    {'type': 'cuboid', \"min_p\": np.array([0.7, -1.0, -2.5]), \"max_p\": np.array([0.725, -0.2, -2.25])},   # back\n",
    "    {'type': 'cuboid', \"min_p\": np.array([0.45, -1.0, -2.275]), \"max_p\": np.array([0.475, -0.625, -2.25])},  # left leg\n",
    "    {'type': 'cuboid', \"min_p\": np.array([0.45, -1.0, -2.5]), \"max_p\": np.array([0.475, -0.625, -2.475])}  # right leg\n",
    "])"
   ]
  },
  {
   "cell_type": "markdown",
   "metadata": {},
   "source": [
    "This will output our final desired image:\n",
    "\n",
    "![picture](images/final.png)"
   ]
  },
  {
   "cell_type": "markdown",
   "metadata": {},
   "source": [
    "### Defining a ray"
   ]
  },
  {
   "cell_type": "markdown",
   "metadata": {},
   "source": [
    "First, we'll need to define the start and end of our rays! Our rays will start at the camera and end at the light source. Let's define one light source. \n",
    "\n",
    "TODO: Move ambient, diffuse, and specular to later in the tutorial when we talk about reflection modeling"
   ]
  },
  {
   "cell_type": "code",
   "execution_count": 1015,
   "metadata": {},
   "outputs": [],
   "source": [
    "light = {\n",
    "            # horiz, vert, depth\n",
    "            'position': np.array([1, 5, 1]),\n",
    "            'position': np.array([5, 5, 5]),\n",
    "            'ambient': np.array([1, 1, 1]),\n",
    "            'diffuse': np.array([1, 1, 1]),\n",
    "            'specular': np.array([1, 1, 1])\n",
    "        }"
   ]
  },
  {
   "cell_type": "markdown",
   "metadata": {},
   "source": [
    "To simulate a ray, we want to find the `nearest_intersected_object` for a ray. To do this, we'll utilize our `intersect` functions that we defined for our objects above! Let's write a quick helper function to give us the correct distance depending on which object we're working with."
   ]
  },
  {
   "cell_type": "code",
   "execution_count": 1016,
   "metadata": {},
   "outputs": [],
   "source": [
    "def get_distance(obj, ray_origin, ray_direction):\n",
    "    if obj['type'] == 'plane':\n",
    "        return plane_intersect(obj['position'], obj['normal'], ray_origin, ray_direction)\n",
    "    elif obj['type'] == 'sphere': # Sphere code attribution to Aflak [2]\n",
    "        return sphere_intersect(obj['center'], obj['radius'], ray_origin, ray_direction)\n",
    "    elif obj['type'] == 'triangle':\n",
    "        return tri_intersect(obj['vertex_a'], obj['vertex_b'], obj['vertex_c'], ray_origin, ray_direction)\n",
    "    elif obj['type'] == 'cuboid':\n",
    "        return cuboid_intersect(obj['min_p'], obj['max_p'], ray_origin, ray_direction)"
   ]
  },
  {
   "cell_type": "markdown",
   "metadata": {},
   "source": [
    "With this helper function, let's define our `nearest_intersected_object` function. We'll compute the distance to every object defined, and then we'll find the object with the minimum distance. "
   ]
  },
  {
   "cell_type": "code",
   "execution_count": 1017,
   "metadata": {},
   "outputs": [],
   "source": [
    "def nearest_intersected_object(objects, ray_origin, ray_direction):\n",
    "    distances = [get_distance(obj, ray_origin, ray_direction) for obj in objects]\n",
    "    # Could we just filter out the 'Nones' then take the minimum distance?\n",
    "    # distances = filter(lambda x: x != None, distances)\n",
    "    nearest_object = None\n",
    "    min_distance = np.inf\n",
    "    for index, distance in enumerate(distances):\n",
    "        if distance and distance < min_distance:\n",
    "            min_distance = distance\n",
    "            nearest_object = objects[index]\n",
    "    return nearest_object, min_distance"
   ]
  },
  {
   "cell_type": "markdown",
   "metadata": {},
   "source": [
    "Before we continue, let's implement a useful helper function to normalize a vector. We'll implement the `normalize` function using `np.linalg.norm`, which when given a vector returns the length of the vector (aka the vector norm). You can read the documentation [here](https://numpy.org/doc/stable/reference/generated/numpy.linalg.norm.html)."
   ]
  },
  {
   "cell_type": "code",
   "execution_count": 1018,
   "metadata": {},
   "outputs": [],
   "source": [
    "def normalize(vector):\n",
    "    return vector / np.linalg.norm(vector)"
   ]
  },
  {
   "cell_type": "markdown",
   "metadata": {},
   "source": [
    "These functions calculate the vector representing when a ray bounces from an object and finds the normal vector to the object's surface from the ray."
   ]
  },
  {
   "cell_type": "code",
   "execution_count": 1019,
   "metadata": {},
   "outputs": [],
   "source": [
    "def get_normal_to_surface(obj, intersection):\n",
    "    if obj['type'] == 'plane':\n",
    "        return normalize(obj['normal'])\n",
    "    elif obj['type'] == 'sphere' or obj['type'] == 'box':\n",
    "        return normalize(intersection - obj['center'])\n",
    "    elif obj['type'] == 'triangle':\n",
    "        return normalize(np.cross((obj['vertex_c'] - obj['vertex_a']), (obj['vertex_b'] - obj['vertex_a'])))\n",
    "    elif obj['type'] == 'cuboid':\n",
    "        # TODO: Don't use this\n",
    "        #return normalize(intersection - (obj['min_p'] + obj['max_p']) / 2)\n",
    "        # TODO: Just return normal from intersection calculation...\n",
    "        p_min, p_max = obj['min_p'], obj['max_p']\n",
    "        assert (p_min < p_max).all(), f\"min: {p_min}, max: {p_max}\"\n",
    "        for i in [0, 1, 2]:\n",
    "            for k, point in enumerate([p_min, p_max]):\n",
    "                normal = np.array([0, 0, 0])\n",
    "                normal[i] = 2*k - 1\n",
    "                if np.abs(np.dot(normalize(intersection - point), normal)) < 1e-6:\n",
    "                    #print(point, intersection, normal, dt)\n",
    "                    return normal\n",
    "        raise Exception(\"nooooo......\") "
   ]
  },
  {
   "cell_type": "markdown",
   "metadata": {},
   "source": [
    "## Creating an image"
   ]
  },
  {
   "cell_type": "markdown",
   "metadata": {},
   "source": [
    "TODO: add and organize text explanation.\n",
    "\n",
    "To define a ray that will start at the *camera* and go to a specific *pixel*, we can define a unit-vector that points in the direction of the camera to the pixel. To get this vector, we can normalize the `pixel - camera` vector.\n",
    "\n",
    "To divide our screen into pixels evenly, we'll use `np.linspace`. `np.linspace` will create a `NumPy` array of *num* evenly spaced samples, calculated over the interval [*start*, *stop*] (inclusive). You can read the documentation [here](https://numpy.org/doc/stable/reference/generated/numpy.linspace.html).\n",
    "\n",
    "With `np.linspace`, we can evenly divide the height of our screen by the height of our image and the width of our screen by the width of our image. Then, we can traverse these arrays to get the y and x values of our pixels.\n",
    "\n",
    "TODO: refactor code of for loop and make it into smaller chunks"
   ]
  },
  {
   "cell_type": "code",
   "execution_count": 1020,
   "metadata": {
    "scrolled": false
   },
   "outputs": [
    {
     "name": "stdout",
     "output_type": "stream",
     "text": [
      "20/200\n",
      "40/200\n",
      "60/200\n",
      "80/200\n",
      "100/200\n",
      "120/200\n",
      "140/200\n",
      "160/200\n",
      "180/200\n",
      "200/200\n"
     ]
    },
    {
     "data": {
      "text/plain": [
       "<matplotlib.image.AxesImage at 0x20de047ce90>"
      ]
     },
     "execution_count": 1020,
     "metadata": {},
     "output_type": "execute_result"
    },
    {
     "data": {
      "image/png": "[encoded data removed]",
      "text/plain": [
       "<Figure size 640x480 with 1 Axes>"
      ]
     },
     "metadata": {},
     "output_type": "display_data"
    }
   ],
   "source": [
    "def reflected(vector, axis):\n",
    "    return vector - 2 * np.dot(vector, axis) * axis\n",
    "\n",
    "for i, y in enumerate(np.linspace(screen[1], screen[3], height)):\n",
    "    for j, x in enumerate(np.linspace(screen[0], screen[2], width)):\n",
    "        \n",
    "        # Image plane is the the xy-plane\n",
    "        pixel = np.array([x, y, 0])\n",
    "        \n",
    "        # Set origin point. When implementing multiple bounces, the origin\n",
    "        # will become some point on an object.\n",
    "        origin = camera\n",
    "        \n",
    "        # The ray runs from the origin through the current pixel\n",
    "        direction = normalize(pixel - origin)\n",
    "\n",
    "        \"\"\"\n",
    "        color = np.zeros((3))\n",
    "        reflection = 1\n",
    "\n",
    "        max_depth = 3\n",
    "        for k in range(max_depth):\n",
    "\n",
    "            # check for intersections\n",
    "            nearest_object, min_distance = nearest_intersected_object(objects, origin, direction)\n",
    "            if nearest_object is None:\n",
    "                break\n",
    "\n",
    "            intersection = origin + min_distance * direction\n",
    "            normal_to_surface = get_normal_to_surface(nearest_object, intersection)\n",
    "            shifted_point = intersection + 1e-5 * normal_to_surface\n",
    "            intersection_to_light = normalize(light['position'] - shifted_point)\n",
    "\n",
    "            _, min_distance = nearest_intersected_object(objects, shifted_point, intersection_to_light)\n",
    "            intersection_to_light_distance = np.linalg.norm(light['position'] - intersection)\n",
    "            is_shadowed = min_distance < intersection_to_light_distance\n",
    "\n",
    "            if is_shadowed:\n",
    "                break\n",
    "\n",
    "            illumination = np.zeros((3))\n",
    "\n",
    "            # ambient\n",
    "            illumination += nearest_object['ambient'] * light['ambient']\n",
    "\n",
    "            # diffuse\n",
    "            illumination += nearest_object['diffuse'] * light['diffuse'] * np.dot(intersection_to_light, normal_to_surface)\n",
    "\n",
    "            # specular\n",
    "            intersection_to_camera = normalize(camera - intersection)\n",
    "            H = normalize(intersection_to_light + intersection_to_camera)\n",
    "            illumination += nearest_object['specular'] * light['specular'] * np.dot(normal_to_surface, H) ** (nearest_object['shininess'] / 4)\n",
    "\n",
    "            # reflection\n",
    "            color += reflection * illumination\n",
    "            reflection *= nearest_object['reflection']\n",
    "\n",
    "            origin = shifted_point\n",
    "            direction = reflected(direction, normal_to_surface)\n",
    "\n",
    "        image[i, j] = np.clip(color, 0, 1)\n",
    "        \"\"\"\n",
    "        \n",
    "        # --- Simple setup for testing ---\n",
    " \n",
    "        # The ray runs from the origin through the current pixel\n",
    "        direction = normalize(pixel - origin)\n",
    "\n",
    "        # check for intersections\n",
    "        nearest_object, min_distance = nearest_intersected_object(objects, origin, direction)\n",
    "        \n",
    "        # The ray intersects with no objects, so leave the pixel black\n",
    "        if nearest_object is None:\n",
    "            continue\n",
    "\n",
    "        # Compute intersection point between ray and nearest object\n",
    "        intersection = origin + min_distance * direction\n",
    "\n",
    "        # Ray from the intersectoin point to light source\n",
    "        intersection_to_light = normalize(light['position'] - intersection)\n",
    "        \n",
    "        # get surface normal\n",
    "        surface_normal = get_normal_to_surface(nearest_object, intersection)\n",
    "        \n",
    "        # Diffuse reflection: the illumination of the point depends only\n",
    "        # on the angle from surface to the light source --- taking the dot\n",
    "        # product of normalized vectors is is the same as taking the cosine\n",
    "        intensity = np.dot(surface_normal, intersection_to_light)\n",
    "        \n",
    "        # go single-channel for now\n",
    "        image[i, j] = np.ones(3) * intensity\n",
    "\n",
    "        # --- Simple setup for testing ---\n",
    "        \n",
    "    if (i + 1) % (height // 10) == 0:\n",
    "        print(f\"{i + 1}/{height}\")\n",
    "\n",
    "plt.axis(\"off\")\n",
    "plt.imshow(image)"
   ]
  },
  {
   "cell_type": "markdown",
   "metadata": {},
   "source": [
    "TODO: Add enhancements, reflection code, and conclusion"
   ]
  },
  {
   "cell_type": "markdown",
   "metadata": {},
   "source": [
    "---\n",
    "References\n",
    "\n",
    "[1] Stray. Steam Windows PC version, 19 Jul. 2022. https://stray.game/.\n",
    "\n",
    "[2] Omar Aflak. 2020. Ray Tracing From Scratch in Python. (2020). https://omaraflak.medium.com/ray-tracing-from-scratch-in-python-41670e6a96f9.\n",
    "\n",
    "[3] Travis Oliphant. 2023. NumPy. https://numpy.org/.\n",
    "\n",
    "[4] Michael Droettboom et. al. 2023. Matplotlib. https://matplotlib.org/.\n",
    "\n",
    "[5] Line–plane intersection. 2023, September 13. In Wikipedia. https://en.wikipedia.org/wiki/Line%E2%80%93plane_intersection\n",
    "\n",
    "[6] Ray-Tracing: Rendering a Triangle. Ray-tracing: Rendering a triangle. (n.d.). https://www.scratchapixel.com/lessons/3d-basic-rendering/ray-tracing-rendering-a-triangle/ray-triangle-intersection-geometric-solution.html "
   ]
  }
 ],
 "metadata": {
  "kernelspec": {
   "display_name": "Python 3 (ipykernel)",
   "language": "python",
   "name": "python3"
  },
  "language_info": {
   "codemirror_mode": {
    "name": "ipython",
    "version": 3
   },
   "file_extension": ".py",
   "mimetype": "text/x-python",
   "name": "python",
   "nbconvert_exporter": "python",
   "pygments_lexer": "ipython3",
   "version": "3.11.5"
  },
  "toc": {
   "base_numbering": 1,
   "nav_menu": {},
   "number_sections": true,
   "sideBar": true,
   "skip_h1_title": false,
   "title_cell": "Table of Contents",
   "title_sidebar": "Contents",
   "toc_cell": true,
   "toc_position": {},
   "toc_section_display": true,
   "toc_window_display": false
  }
 },
 "nbformat": 4,
 "nbformat_minor": 4
}
